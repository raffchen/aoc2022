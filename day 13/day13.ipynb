{
 "cells": [
  {
   "cell_type": "code",
   "execution_count": 1,
   "id": "019f714e",
   "metadata": {},
   "outputs": [],
   "source": [
    "sample = \"\"\"[1,1,3,1,1]\n",
    "[1,1,5,1,1]\n",
    "\n",
    "[[1],[2,3,4]]\n",
    "[[1],4]\n",
    "\n",
    "[9]\n",
    "[[8,7,6]]\n",
    "\n",
    "[[4,4],4,4]\n",
    "[[4,4],4,4,4]\n",
    "\n",
    "[7,7,7,7]\n",
    "[7,7,7]\n",
    "\n",
    "[]\n",
    "[3]\n",
    "\n",
    "[[[]]]\n",
    "[[]]\n",
    "\n",
    "[1,[2,[3,[4,[5,6,7]]]],8,9]\n",
    "[1,[2,[3,[4,[5,6,0]]]],8,9]\"\"\""
   ]
  },
  {
   "cell_type": "code",
   "execution_count": 53,
   "id": "57c409fb",
   "metadata": {},
   "outputs": [],
   "source": [
    "with open('input.txt') as f:\n",
    "    data = f.read().rstrip()"
   ]
  },
  {
   "cell_type": "code",
   "execution_count": 3,
   "id": "e0db596b",
   "metadata": {},
   "outputs": [],
   "source": [
    "from ast import literal_eval"
   ]
  },
  {
   "cell_type": "code",
   "execution_count": 49,
   "id": "1573cfc0",
   "metadata": {},
   "outputs": [],
   "source": [
    "def compare(left, right):\n",
    "    if isinstance(left, int) and isinstance(right, int):\n",
    "        if left < right:\n",
    "            return 1\n",
    "        elif left > right:\n",
    "            return 0\n",
    "        else:\n",
    "            return -1\n",
    "    elif isinstance(left, list) and isinstance(right, list):\n",
    "        if len(left) == 0 and len(right) > 0:\n",
    "            return 1\n",
    "        elif len(left) > 0 and len(right) == 0:\n",
    "            return 0\n",
    "        elif len(left) == 0 and len(right) == 0:\n",
    "            return -1\n",
    "        else:\n",
    "            idx = 0\n",
    "            while idx < max(len(left), len(right)):\n",
    "                if idx == len(left) and idx < len(right):\n",
    "                    return 1\n",
    "                elif idx < len(left) and idx == len(right):\n",
    "                    return 0\n",
    "                \n",
    "                c = compare(left[idx], right[idx])\n",
    "                \n",
    "                if c == 1:\n",
    "                    return 1\n",
    "                elif c == 0:\n",
    "                    return 0\n",
    "                else:\n",
    "                    idx += 1\n",
    "    elif isinstance(left, list) and isinstance(right, int):\n",
    "        return compare(left, [right])\n",
    "    elif isinstance(left, int) and isinstance(right, list):\n",
    "        return compare([left], right)"
   ]
  },
  {
   "cell_type": "code",
   "execution_count": 58,
   "id": "f2f24054",
   "metadata": {},
   "outputs": [
    {
     "data": {
      "text/plain": [
       "6415"
      ]
     },
     "execution_count": 58,
     "metadata": {},
     "output_type": "execute_result"
    }
   ],
   "source": [
    "total = 0\n",
    "\n",
    "for idx, pairs in enumerate(data.split('\\n\\n'), 1):\n",
    "    left, right = pairs.split('\\n')\n",
    "    left = literal_eval(left)\n",
    "    right = literal_eval(right)\n",
    "\n",
    "    if compare(left, right) == 1:\n",
    "        total += idx\n",
    "        \n",
    "total"
   ]
  },
  {
   "cell_type": "code",
   "execution_count": 76,
   "id": "dc94f42d",
   "metadata": {},
   "outputs": [],
   "source": [
    "items = []\n",
    "\n",
    "for line in (data.replace('\\n\\n', '\\n') + '\\n[[2]]\\n[[6]]').splitlines():\n",
    "    line = literal_eval(line)\n",
    "    \n",
    "    items.append(line)\n",
    "    \n",
    "    for i in range(len(items) - 1, 0, -1):\n",
    "        if compare(items[i], items[i-1]):\n",
    "            items[i], items[i-1] = items[i-1], items[i]"
   ]
  },
  {
   "cell_type": "code",
   "execution_count": 77,
   "id": "b0862456",
   "metadata": {},
   "outputs": [
    {
     "data": {
      "text/plain": [
       "20056"
      ]
     },
     "execution_count": 77,
     "metadata": {},
     "output_type": "execute_result"
    }
   ],
   "source": [
    "(items.index([[2]]) + 1) * (items.index([[6]]) + 1)"
   ]
  },
  {
   "cell_type": "code",
   "execution_count": null,
   "id": "073c7822",
   "metadata": {},
   "outputs": [],
   "source": []
  }
 ],
 "metadata": {
  "kernelspec": {
   "display_name": "Python 3 (ipykernel)",
   "language": "python",
   "name": "python3"
  },
  "language_info": {
   "codemirror_mode": {
    "name": "ipython",
    "version": 3
   },
   "file_extension": ".py",
   "mimetype": "text/x-python",
   "name": "python",
   "nbconvert_exporter": "python",
   "pygments_lexer": "ipython3",
   "version": "3.9.12"
  }
 },
 "nbformat": 4,
 "nbformat_minor": 5
}
