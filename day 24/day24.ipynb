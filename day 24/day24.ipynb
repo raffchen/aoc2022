{
 "cells": [
  {
   "cell_type": "code",
   "execution_count": 1,
   "id": "cad6fc9f",
   "metadata": {},
   "outputs": [],
   "source": [
    "import numpy as np\n",
    "from collections import deque, namedtuple\n",
    "from dataclasses import dataclass"
   ]
  },
  {
   "cell_type": "code",
   "execution_count": 2,
   "id": "a365adb3",
   "metadata": {},
   "outputs": [],
   "source": [
    "@dataclass\n",
    "class Blizzard:\n",
    "    y: int\n",
    "    x: int\n",
    "    direction: int\n",
    "        \n",
    "    def get_loc(self, time, grid_size):\n",
    "        h, w = grid_size\n",
    "        if self.direction == 0:\n",
    "            x = self.x - 1\n",
    "            x = (x + time) % (w - 2) + 1\n",
    "            return (self.y, x)\n",
    "        elif self.direction == 1:\n",
    "            y = self.y - 1\n",
    "            y = (y + time) % (h - 2) + 1\n",
    "            return (y, self.x)\n",
    "        elif self.direction == 2:\n",
    "            x = self.x - 1\n",
    "            x = (x - time) % (w - 2) + 1\n",
    "            return (self.y, x)\n",
    "        elif self.direction == 3:\n",
    "            y = self.y - 1\n",
    "            y = (y - time) % (h - 2) + 1\n",
    "            return (y, self.x)\n",
    "        \n",
    "State = namedtuple('State', 'time,player_y,player_x')"
   ]
  },
  {
   "cell_type": "code",
   "execution_count": 3,
   "id": "35f501ab",
   "metadata": {},
   "outputs": [],
   "source": [
    "with open('input.txt') as f:\n",
    "    data = f.read().rstrip()\n",
    "    grid = np.array([list(line) for line in data.splitlines()])"
   ]
  },
  {
   "cell_type": "code",
   "execution_count": 4,
   "id": "7f13789b",
   "metadata": {},
   "outputs": [],
   "source": [
    "h, w = grid.shape\n",
    "empty_grid = grid.copy()\n",
    "empty_grid[1:h-1, 1:w-1] = '.'"
   ]
  },
  {
   "cell_type": "code",
   "execution_count": 5,
   "id": "88142ce6",
   "metadata": {},
   "outputs": [],
   "source": [
    "blizzards = []\n",
    "\n",
    "for (y, x) in np.argwhere(grid == '>'):\n",
    "    blizzards.append(Blizzard(y, x, 0))\n",
    "\n",
    "for (y, x) in np.argwhere(grid == 'v'):\n",
    "    blizzards.append(Blizzard(y, x, 1))\n",
    "    \n",
    "for (y, x) in np.argwhere(grid == '<'):\n",
    "    blizzards.append(Blizzard(y, x, 2))\n",
    "    \n",
    "for (y, x) in np.argwhere(grid == '^'):\n",
    "    blizzards.append(Blizzard(y, x, 3))"
   ]
  },
  {
   "cell_type": "code",
   "execution_count": 6,
   "id": "d621385c",
   "metadata": {},
   "outputs": [],
   "source": [
    "def get_grid(time, blizzards, empty_grid):\n",
    "    new_grid = empty_grid.copy()\n",
    "    for b in blizzards:\n",
    "        y, x = b.get_loc(time, new_grid.shape)\n",
    "        if new_grid[y, x] in ('>', 'v', '<', '^'):\n",
    "            new_grid[y, x] = '2'\n",
    "        elif new_grid[y, x].isdigit():\n",
    "            new_grid[y, x] = str(int(new_grid[y, x]) + 1)\n",
    "        else:\n",
    "            new_grid[y, x] = ('>', 'v', '<', '^')[b.direction]\n",
    "    return new_grid"
   ]
  },
  {
   "cell_type": "code",
   "execution_count": 7,
   "id": "1b9a1997",
   "metadata": {},
   "outputs": [],
   "source": [
    "def get_time(start, target, empty_grid, blizzards, start_time=0):\n",
    "    queue = deque([State(start_time, start[0], start[1])])\n",
    "    visited = set()\n",
    "\n",
    "    time_dict = {}\n",
    "\n",
    "    while len(queue) > 0:\n",
    "        time,player_y,player_x = queue.popleft()\n",
    "\n",
    "        if (time,player_y,player_x) in visited:\n",
    "            continue\n",
    "        else:\n",
    "            visited.add((time,player_y,player_x))\n",
    "\n",
    "        if (player_y, player_x) == target:\n",
    "            return time\n",
    "\n",
    "        if time + 1 in time_dict:\n",
    "            next_grid = time_dict[time + 1]\n",
    "        else:\n",
    "            next_grid = get_grid(time+1, blizzards, empty_grid)\n",
    "            time_dict[time + 1] = next_grid\n",
    "\n",
    "        if player_y - 1 > -1 and next_grid[player_y-1, player_x] == '.':\n",
    "            queue.append(State(time+1, player_y-1, player_x))\n",
    "\n",
    "        if player_y + 1 < h and next_grid[player_y+1, player_x] == '.':\n",
    "            queue.append(State(time+1, player_y+1, player_x))\n",
    "\n",
    "        if player_x - 1 > -1 and next_grid[player_y, player_x-1] == '.':\n",
    "            queue.append(State(time+1, player_y, player_x-1))\n",
    "\n",
    "        if player_x + 1 < w and next_grid[player_y, player_x+1] == '.':\n",
    "            queue.append(State(time+1, player_y, player_x+1))\n",
    "\n",
    "        if next_grid[player_y, player_x] == '.':\n",
    "            queue.append(State(time+1, player_y, player_x))"
   ]
  },
  {
   "cell_type": "code",
   "execution_count": 8,
   "id": "8d6e5a18",
   "metadata": {},
   "outputs": [],
   "source": [
    "start = (0, np.argwhere(grid[0] == '.').flatten()[0])\n",
    "target = (h-1, np.argwhere(grid[h-1] == '.').flatten()[0])"
   ]
  },
  {
   "cell_type": "markdown",
   "id": "66a41252",
   "metadata": {},
   "source": [
    "## part 1"
   ]
  },
  {
   "cell_type": "code",
   "execution_count": 9,
   "id": "c5c941a2",
   "metadata": {},
   "outputs": [
    {
     "data": {
      "text/plain": [
       "373"
      ]
     },
     "execution_count": 9,
     "metadata": {},
     "output_type": "execute_result"
    }
   ],
   "source": [
    "get_time(start, target, empty_grid, blizzards)"
   ]
  },
  {
   "cell_type": "markdown",
   "id": "4b28878f",
   "metadata": {},
   "source": [
    "## part 2"
   ]
  },
  {
   "cell_type": "code",
   "execution_count": 10,
   "id": "a577a3da",
   "metadata": {},
   "outputs": [
    {
     "data": {
      "text/plain": [
       "997"
      ]
     },
     "execution_count": 10,
     "metadata": {},
     "output_type": "execute_result"
    }
   ],
   "source": [
    "time1 = get_time(start, target, empty_grid, blizzards)\n",
    "time2 = get_time(target, start, empty_grid, blizzards, start_time=time1)\n",
    "time3 = get_time(start, target, empty_grid, blizzards, start_time=time2)\n",
    "time3"
   ]
  },
  {
   "cell_type": "code",
   "execution_count": null,
   "id": "8f90297c",
   "metadata": {},
   "outputs": [],
   "source": []
  }
 ],
 "metadata": {
  "kernelspec": {
   "display_name": "Python 3 (ipykernel)",
   "language": "python",
   "name": "python3"
  },
  "language_info": {
   "codemirror_mode": {
    "name": "ipython",
    "version": 3
   },
   "file_extension": ".py",
   "mimetype": "text/x-python",
   "name": "python",
   "nbconvert_exporter": "python",
   "pygments_lexer": "ipython3",
   "version": "3.9.12"
  }
 },
 "nbformat": 4,
 "nbformat_minor": 5
}
