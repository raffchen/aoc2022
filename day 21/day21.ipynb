{
 "cells": [
  {
   "cell_type": "code",
   "execution_count": 1,
   "id": "8279adda",
   "metadata": {},
   "outputs": [],
   "source": [
    "from functools import lru_cache\n",
    "from typing import Union\n",
    "from __future__ import annotations"
   ]
  },
  {
   "cell_type": "code",
   "execution_count": 2,
   "id": "b6160a0f",
   "metadata": {},
   "outputs": [],
   "source": [
    "with open('input.txt') as f:\n",
    "    data = f.read().rstrip().splitlines()"
   ]
  },
  {
   "cell_type": "code",
   "execution_count": 3,
   "id": "3550e965",
   "metadata": {},
   "outputs": [],
   "source": [
    "monkeys = {}\n",
    "\n",
    "for line in data:\n",
    "    name, job = line.split(': ')\n",
    "    if job.isdigit():\n",
    "        monkeys[name] = int(job)\n",
    "    else:\n",
    "        m1, op, m2 = job.split()\n",
    "        monkeys[name] = [m1, m2, op]"
   ]
  },
  {
   "cell_type": "markdown",
   "id": "4eab2811",
   "metadata": {},
   "source": [
    "## part 1"
   ]
  },
  {
   "cell_type": "code",
   "execution_count": 4,
   "id": "668e67b5",
   "metadata": {},
   "outputs": [],
   "source": [
    "@lru_cache\n",
    "def calculate(name):\n",
    "    if isinstance(monkeys[name], int):\n",
    "        return monkeys[name]\n",
    "    else:\n",
    "        m1, m2, op = monkeys[name]\n",
    "        if op == '+':\n",
    "            return calculate(m1) + calculate(m2)\n",
    "        elif op == '-':\n",
    "            return calculate(m1) - calculate(m2)\n",
    "        elif op == '*':\n",
    "            return calculate(m1) * calculate(m2)\n",
    "        else:\n",
    "            return calculate(m1) // calculate(m2)"
   ]
  },
  {
   "cell_type": "code",
   "execution_count": 5,
   "id": "2cc4f681",
   "metadata": {},
   "outputs": [
    {
     "data": {
      "text/plain": [
       "331120084396440"
      ]
     },
     "execution_count": 5,
     "metadata": {},
     "output_type": "execute_result"
    }
   ],
   "source": [
    "calculate('root')"
   ]
  },
  {
   "cell_type": "markdown",
   "id": "a29331b9",
   "metadata": {},
   "source": [
    "## part 2"
   ]
  },
  {
   "cell_type": "code",
   "execution_count": 6,
   "id": "5811f09a",
   "metadata": {},
   "outputs": [],
   "source": [
    "@lru_cache\n",
    "def reverse_ops(name):\n",
    "    if isinstance(monkeys[name], int):\n",
    "        if name == 'humn':\n",
    "            return []\n",
    "        else:\n",
    "            return -1\n",
    "    else:\n",
    "        m1, m2, op = monkeys[name]\n",
    "        \n",
    "        res1 = reverse_ops(m1)\n",
    "        res2 = reverse_ops(m2)\n",
    "        \n",
    "        if isinstance(res1, list):\n",
    "            operand = calculate(m2)\n",
    "            if op == '+':\n",
    "                res1.append(['-', operand])\n",
    "            elif op == '-':\n",
    "                res1.append(['+', operand])\n",
    "            elif op == '*':\n",
    "                res1.append(['/', operand])\n",
    "            elif op == '/':\n",
    "                res1.append(['*', operand])\n",
    "            return res1\n",
    "        elif isinstance(res2, list):\n",
    "            operand = calculate(m1)\n",
    "            if op == '+':\n",
    "                res2.append(['-', operand])\n",
    "            elif op == '-':\n",
    "                res2.extend([['*', -1], ['-', operand]])\n",
    "            elif op == '*':\n",
    "                res2.append(['/', operand])\n",
    "            elif op == '/':\n",
    "                res2.extend([['recip', -1], ['/', operand]])\n",
    "            return res2"
   ]
  },
  {
   "cell_type": "code",
   "execution_count": 7,
   "id": "b182ed4f",
   "metadata": {},
   "outputs": [],
   "source": [
    "def apply_ops(res, ops):\n",
    "    for op, operand in ops:\n",
    "        if op == '+':\n",
    "            res = res + operand\n",
    "        elif op == '-':\n",
    "            res = res - operand\n",
    "        elif op == '*':\n",
    "            res = res * operand\n",
    "        elif op == '/':\n",
    "            res = res / operand\n",
    "        elif op == 'recip':\n",
    "            res = 1 / res\n",
    "    return res"
   ]
  },
  {
   "cell_type": "code",
   "execution_count": 8,
   "id": "9793f6c7",
   "metadata": {},
   "outputs": [
    {
     "name": "stdout",
     "output_type": "stream",
     "text": [
      "3378273370680\n"
     ]
    }
   ],
   "source": [
    "res = calculate(monkeys['root'][1])\n",
    "ops = reverse_ops(monkeys['root'][0])\n",
    "ans = apply_ops(res, ops[::-1])\n",
    "if ans.is_integer():\n",
    "    print(int(ans))\n",
    "else:\n",
    "    print(ans)"
   ]
  },
  {
   "cell_type": "code",
   "execution_count": null,
   "id": "e6f550c4",
   "metadata": {},
   "outputs": [],
   "source": []
  }
 ],
 "metadata": {
  "kernelspec": {
   "display_name": "Python 3 (ipykernel)",
   "language": "python",
   "name": "python3"
  },
  "language_info": {
   "codemirror_mode": {
    "name": "ipython",
    "version": 3
   },
   "file_extension": ".py",
   "mimetype": "text/x-python",
   "name": "python",
   "nbconvert_exporter": "python",
   "pygments_lexer": "ipython3",
   "version": "3.9.12"
  }
 },
 "nbformat": 4,
 "nbformat_minor": 5
}
