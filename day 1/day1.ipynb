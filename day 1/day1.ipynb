{
 "cells": [
  {
   "cell_type": "code",
   "execution_count": 46,
   "id": "742ede56",
   "metadata": {},
   "outputs": [],
   "source": [
    "elves = []\n",
    "\n",
    "with open('input.txt', 'r') as f:\n",
    "    total = 0\n",
    "    \n",
    "    for line in f:\n",
    "        line = line.strip()\n",
    "        if line == '':\n",
    "            elves.append(total)\n",
    "            total = 0\n",
    "        else:\n",
    "            total += int(line)"
   ]
  },
  {
   "cell_type": "code",
   "execution_count": 48,
   "id": "3d14558a",
   "metadata": {},
   "outputs": [
    {
     "data": {
      "text/plain": [
       "[71300, 69249, 69142]"
      ]
     },
     "execution_count": 48,
     "metadata": {},
     "output_type": "execute_result"
    }
   ],
   "source": [
    "sorted(elves, reverse=True)[:3]"
   ]
  },
  {
   "cell_type": "code",
   "execution_count": 49,
   "id": "391566e9",
   "metadata": {},
   "outputs": [
    {
     "data": {
      "text/plain": [
       "209691"
      ]
     },
     "execution_count": 49,
     "metadata": {},
     "output_type": "execute_result"
    }
   ],
   "source": [
    "sum([71300, 69249, 69142])"
   ]
  },
  {
   "cell_type": "code",
   "execution_count": null,
   "id": "a3b4bdfd",
   "metadata": {},
   "outputs": [],
   "source": []
  }
 ],
 "metadata": {
  "kernelspec": {
   "display_name": "Python 3 (ipykernel)",
   "language": "python",
   "name": "python3"
  },
  "language_info": {
   "codemirror_mode": {
    "name": "ipython",
    "version": 3
   },
   "file_extension": ".py",
   "mimetype": "text/x-python",
   "name": "python",
   "nbconvert_exporter": "python",
   "pygments_lexer": "ipython3",
   "version": "3.10.5"
  }
 },
 "nbformat": 4,
 "nbformat_minor": 5
}
