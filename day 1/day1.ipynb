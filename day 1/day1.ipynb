{
 "cells": [
  {
   "cell_type": "markdown",
   "id": "c11dbb43",
   "metadata": {},
   "source": [
    "## part 1"
   ]
  },
  {
   "cell_type": "code",
   "execution_count": 1,
   "id": "a3b4bdfd",
   "metadata": {},
   "outputs": [],
   "source": [
    "calories = []\n",
    "\n",
    "with open('input.txt', 'r') as f:\n",
    "    for l in f.read().rstrip().split('\\n\\n'):\n",
    "        calories.append(sum(map(int, l.split('\\n'))))"
   ]
  },
  {
   "cell_type": "code",
   "execution_count": 2,
   "id": "080e8034",
   "metadata": {},
   "outputs": [
    {
     "data": {
      "text/plain": [
       "71300"
      ]
     },
     "execution_count": 2,
     "metadata": {},
     "output_type": "execute_result"
    }
   ],
   "source": [
    "max(calories)"
   ]
  },
  {
   "cell_type": "markdown",
   "id": "aa41ad0d",
   "metadata": {},
   "source": [
    "## part 2"
   ]
  },
  {
   "cell_type": "code",
   "execution_count": 3,
   "id": "2fb6e7d7",
   "metadata": {},
   "outputs": [
    {
     "data": {
      "text/plain": [
       "209691"
      ]
     },
     "execution_count": 3,
     "metadata": {},
     "output_type": "execute_result"
    }
   ],
   "source": [
    "sum(sorted(calories)[-3:])"
   ]
  },
  {
   "cell_type": "code",
   "execution_count": null,
   "id": "9a3a649a",
   "metadata": {},
   "outputs": [],
   "source": []
  }
 ],
 "metadata": {
  "kernelspec": {
   "display_name": "Python 3 (ipykernel)",
   "language": "python",
   "name": "python3"
  },
  "language_info": {
   "codemirror_mode": {
    "name": "ipython",
    "version": 3
   },
   "file_extension": ".py",
   "mimetype": "text/x-python",
   "name": "python",
   "nbconvert_exporter": "python",
   "pygments_lexer": "ipython3",
   "version": "3.10.5"
  }
 },
 "nbformat": 4,
 "nbformat_minor": 5
}
