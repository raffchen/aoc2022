{
 "cells": [
  {
   "cell_type": "code",
   "execution_count": 1,
   "id": "cec64ac8",
   "metadata": {},
   "outputs": [],
   "source": [
    "import re"
   ]
  },
  {
   "cell_type": "markdown",
   "id": "78bd6b7e",
   "metadata": {},
   "source": [
    "## part 1"
   ]
  },
  {
   "cell_type": "code",
   "execution_count": 2,
   "id": "d7a78f52",
   "metadata": {},
   "outputs": [],
   "source": [
    "def manhattan(p1, p2):\n",
    "    x1, y1 = p1\n",
    "    x2, y2 = p2\n",
    "    return abs(x1 - x2) + abs(y1 - y2)"
   ]
  },
  {
   "cell_type": "code",
   "execution_count": 3,
   "id": "d73a1074",
   "metadata": {},
   "outputs": [],
   "source": [
    "def get_range(p1, p2, y=2000000):\n",
    "    x1, y1 = p1\n",
    "    x2, y2 = p2\n",
    "    m = manhattan(p1, p2)\n",
    "    m1 = m - abs(y1 - y)\n",
    "    if m1 < 0:\n",
    "        return None\n",
    "    upper = (-m1 - x1) * -1\n",
    "    lower = (m1 - x1) * -1\n",
    "    return (lower, upper)"
   ]
  },
  {
   "cell_type": "code",
   "execution_count": 4,
   "id": "3dc36a06",
   "metadata": {},
   "outputs": [],
   "source": [
    "pattern = re.compile(r'Sensor at x=(-?\\d+), y=(-?\\d+): closest beacon is at x=(-?\\d+), y=(-?\\d+)')"
   ]
  },
  {
   "cell_type": "code",
   "execution_count": 5,
   "id": "71643a65",
   "metadata": {},
   "outputs": [],
   "source": [
    "with open('input.txt') as f:\n",
    "    data = f.read().splitlines()"
   ]
  },
  {
   "cell_type": "code",
   "execution_count": 6,
   "id": "bb2b5852",
   "metadata": {},
   "outputs": [],
   "source": [
    "points = set()\n",
    "beacons = set()\n",
    "\n",
    "for line in data:\n",
    "    x1, y1, x2, y2 = list(map(int, pattern.match(line).groups()))\n",
    "    p1 = (x1, y1)\n",
    "    p2 = (x2, y2)\n",
    "    \n",
    "    if y2 == 2000000:\n",
    "        beacons.add(x2)\n",
    "    \n",
    "    if (f := get_range(p1, p2)):\n",
    "        l, u = f\n",
    "        points = points.union(range(l, u+1))"
   ]
  },
  {
   "cell_type": "code",
   "execution_count": 7,
   "id": "f41f95fd",
   "metadata": {},
   "outputs": [
    {
     "data": {
      "text/plain": [
       "5607466"
      ]
     },
     "execution_count": 7,
     "metadata": {},
     "output_type": "execute_result"
    }
   ],
   "source": [
    "len(points - beacons)"
   ]
  },
  {
   "cell_type": "markdown",
   "id": "cfecf895",
   "metadata": {},
   "source": [
    "## part 2"
   ]
  },
  {
   "cell_type": "code",
   "execution_count": 8,
   "id": "df9eb60a",
   "metadata": {},
   "outputs": [],
   "source": [
    "for y in range(0, 4000001):\n",
    "    ranges = []\n",
    "    for line in data:\n",
    "        x1, y1, x2, y2 = list(map(int, pattern.match(line).groups()))\n",
    "        p1 = (x1, y1)\n",
    "        p2 = (x2, y2)\n",
    "    \n",
    "        if (f := get_range(p1, p2, y)):\n",
    "            l, u = f\n",
    "            ranges.append((l, u))\n",
    "            \n",
    "    ranges.sort()\n",
    "    \n",
    "    max_u = 0\n",
    "    \n",
    "    for i in range(1, len(ranges)):\n",
    "        l1, u1 = ranges[i - 1]\n",
    "        l2, u2 = ranges[i]\n",
    "        \n",
    "        if u1 > max_u:\n",
    "            max_u = u1\n",
    "        \n",
    "        if l2 > max_u + 1:\n",
    "            ans = (y, l2 - 1)\n",
    "            break"
   ]
  },
  {
   "cell_type": "code",
   "execution_count": 9,
   "id": "45c23ab3",
   "metadata": {},
   "outputs": [
    {
     "data": {
      "text/plain": [
       "11066339135800"
      ]
     },
     "execution_count": 9,
     "metadata": {},
     "output_type": "execute_result"
    }
   ],
   "source": [
    "x, y = ans\n",
    "x * 4000000 + y "
   ]
  },
  {
   "cell_type": "code",
   "execution_count": null,
   "id": "d6e656fa",
   "metadata": {},
   "outputs": [],
   "source": []
  }
 ],
 "metadata": {
  "kernelspec": {
   "display_name": "Python 3 (ipykernel)",
   "language": "python",
   "name": "python3"
  },
  "language_info": {
   "codemirror_mode": {
    "name": "ipython",
    "version": 3
   },
   "file_extension": ".py",
   "mimetype": "text/x-python",
   "name": "python",
   "nbconvert_exporter": "python",
   "pygments_lexer": "ipython3",
   "version": "3.9.12"
  }
 },
 "nbformat": 4,
 "nbformat_minor": 5
}
