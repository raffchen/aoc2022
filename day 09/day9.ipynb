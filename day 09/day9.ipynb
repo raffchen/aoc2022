{
 "cells": [
  {
   "cell_type": "code",
   "execution_count": 1,
   "id": "671dbaa9",
   "metadata": {},
   "outputs": [],
   "source": [
    "import numpy as np"
   ]
  },
  {
   "cell_type": "code",
   "execution_count": 2,
   "id": "e89703a0",
   "metadata": {},
   "outputs": [],
   "source": [
    "with open('input.txt') as f:\n",
    "    data = f.read()"
   ]
  },
  {
   "cell_type": "code",
   "execution_count": 3,
   "id": "68cef1a4",
   "metadata": {},
   "outputs": [],
   "source": [
    "def dist(p1, p2):\n",
    "    return np.sqrt(np.sum((p1 - p2)**2))\n",
    "\n",
    "def move_T(T, H):\n",
    "    # T below H\n",
    "    if T[0] == H[0] and T[1] < H[1]:\n",
    "        new_T = T + [0, 1]\n",
    "    # T above H\n",
    "    elif T[0] == H[0] and T[1] > H[1]:\n",
    "        new_T = T + [0, -1]\n",
    "    # T left of H\n",
    "    elif T[0] < H[0] and T[1] == H[1]:\n",
    "        new_T = T + [1, 0]\n",
    "    # T right of H\n",
    "    elif T[0] > H[0] and T[1] == H[1]:\n",
    "        new_T = T + [-1, 0]\n",
    "    # T top left of H\n",
    "    elif T[0] < H[0] and T[1] > H[1]:\n",
    "        new_T = T + [1, -1]\n",
    "    # T top right of H\n",
    "    elif T[0] > H[0] and T[1] > H[1]:\n",
    "        new_T = T + [-1, -1]\n",
    "    # T bottom left of H\n",
    "    elif T[0] < H[0] and T[1] < H[1]:\n",
    "        new_T = T + [1, 1]\n",
    "    # T bottom right of H\n",
    "    elif T[0] > H[0] and T[1] < H[1]:\n",
    "        new_T = T + [-1, 1]\n",
    "        \n",
    "    return new_T"
   ]
  },
  {
   "cell_type": "markdown",
   "id": "81c11a3f",
   "metadata": {},
   "source": [
    "## part 1"
   ]
  },
  {
   "cell_type": "code",
   "execution_count": 4,
   "id": "12102b26",
   "metadata": {},
   "outputs": [],
   "source": [
    "H = np.array([0, 0], dtype=int)\n",
    "T = np.array([0, 0], dtype=int)\n",
    "visited = set([(0, 0)])\n",
    "\n",
    "for line in data.splitlines():\n",
    "    d, n = line.split()\n",
    "    n = int(n)\n",
    "    \n",
    "    for _ in range(n):\n",
    "        if d == 'R':\n",
    "            H[0] += 1\n",
    "        elif d == 'L':\n",
    "            H[0] -= 1\n",
    "        elif d == 'U':\n",
    "            H[1] += 1\n",
    "        elif d == 'D':\n",
    "            H[1] -= 1\n",
    "        \n",
    "        if dist(H, T) >= 2:\n",
    "            T = move_T(T, H)\n",
    "        \n",
    "        visited.add(tuple(T))"
   ]
  },
  {
   "cell_type": "code",
   "execution_count": 5,
   "id": "b3e74f3c",
   "metadata": {},
   "outputs": [
    {
     "data": {
      "text/plain": [
       "5779"
      ]
     },
     "execution_count": 5,
     "metadata": {},
     "output_type": "execute_result"
    }
   ],
   "source": [
    "len(visited)"
   ]
  },
  {
   "cell_type": "markdown",
   "id": "194250ce",
   "metadata": {},
   "source": [
    "## part 2"
   ]
  },
  {
   "cell_type": "code",
   "execution_count": 6,
   "id": "2708bfdd",
   "metadata": {},
   "outputs": [],
   "source": [
    "H = np.array([0, 0], dtype=int)\n",
    "T1 = np.array([0, 0], dtype=int)\n",
    "T2 = np.array([0, 0], dtype=int)\n",
    "T3 = np.array([0, 0], dtype=int)\n",
    "T4 = np.array([0, 0], dtype=int)\n",
    "T5 = np.array([0, 0], dtype=int)\n",
    "T6 = np.array([0, 0], dtype=int)\n",
    "T7 = np.array([0, 0], dtype=int)\n",
    "T8 = np.array([0, 0], dtype=int)\n",
    "T9 = np.array([0, 0], dtype=int)\n",
    "visited = set([(0, 0)])\n",
    "\n",
    "for line in data.splitlines():\n",
    "    d, n = line.split()\n",
    "    n = int(n)\n",
    "    \n",
    "    for _ in range(n):\n",
    "        if d == 'R':\n",
    "            H[0] += 1\n",
    "        elif d == 'L':\n",
    "            H[0] -= 1\n",
    "        elif d == 'U':\n",
    "            H[1] += 1\n",
    "        elif d == 'D':\n",
    "            H[1] -= 1\n",
    "        \n",
    "        if dist(H, T1) >= 2:\n",
    "            T1 = move_T(T1, H)\n",
    "        if dist(T1, T2) >= 2:\n",
    "            T2 = move_T(T2, T1)\n",
    "        if dist(T2, T3) >= 2:\n",
    "            T3 = move_T(T3, T2)\n",
    "        if dist(T3, T4) >= 2:\n",
    "            T4 = move_T(T4, T3)\n",
    "        if dist(T4, T5) >= 2:\n",
    "            T5 = move_T(T5, T4)\n",
    "        if dist(T5, T6) >= 2:\n",
    "            T6 = move_T(T6, T5)\n",
    "        if dist(T6, T7) >= 2:\n",
    "            T7 = move_T(T7, T6)\n",
    "        if dist(T7, T8) >= 2:\n",
    "            T8 = move_T(T8, T7)\n",
    "        if dist(T8, T9) >= 2:\n",
    "            T9 = move_T(T9, T8)\n",
    "        \n",
    "        visited.add(tuple(T9))"
   ]
  },
  {
   "cell_type": "code",
   "execution_count": 7,
   "id": "1a62ab11",
   "metadata": {},
   "outputs": [
    {
     "data": {
      "text/plain": [
       "2331"
      ]
     },
     "execution_count": 7,
     "metadata": {},
     "output_type": "execute_result"
    }
   ],
   "source": [
    "len(visited)"
   ]
  },
  {
   "cell_type": "code",
   "execution_count": null,
   "id": "a4471bba",
   "metadata": {},
   "outputs": [],
   "source": []
  }
 ],
 "metadata": {
  "kernelspec": {
   "display_name": "Python 3 (ipykernel)",
   "language": "python",
   "name": "python3"
  },
  "language_info": {
   "codemirror_mode": {
    "name": "ipython",
    "version": 3
   },
   "file_extension": ".py",
   "mimetype": "text/x-python",
   "name": "python",
   "nbconvert_exporter": "python",
   "pygments_lexer": "ipython3",
   "version": "3.10.5"
  }
 },
 "nbformat": 4,
 "nbformat_minor": 5
}
