{
 "cells": [
  {
   "cell_type": "markdown",
   "id": "d6b61215",
   "metadata": {},
   "source": [
    "## part 1"
   ]
  },
  {
   "cell_type": "code",
   "execution_count": 1,
   "id": "f6984646",
   "metadata": {},
   "outputs": [],
   "source": [
    "combos = {\n",
    "    ('A', 'X'): 3,\n",
    "    ('A', 'Y'): 6,\n",
    "    ('A', 'Z'): 0,\n",
    "    ('B', 'X'): 0,\n",
    "    ('B', 'Y'): 3,\n",
    "    ('B', 'Z'): 6,\n",
    "    ('C', 'X'): 6,\n",
    "    ('C', 'Y'): 0,\n",
    "    ('C', 'Z'): 3\n",
    "}\n",
    "\n",
    "values = {\n",
    "    'X': 1,\n",
    "    'Y': 2,\n",
    "    'Z': 3\n",
    "}"
   ]
  },
  {
   "cell_type": "code",
   "execution_count": 2,
   "id": "c01a835f",
   "metadata": {},
   "outputs": [],
   "source": [
    "scores = []\n",
    "\n",
    "with open('input.txt') as f:\n",
    "    for line in f:\n",
    "        opp, play = line.strip().split()\n",
    "        scores.append(combos[opp, play] + values[play])"
   ]
  },
  {
   "cell_type": "code",
   "execution_count": 3,
   "id": "27574dc5",
   "metadata": {},
   "outputs": [
    {
     "data": {
      "text/plain": [
       "8890"
      ]
     },
     "execution_count": 3,
     "metadata": {},
     "output_type": "execute_result"
    }
   ],
   "source": [
    "sum(scores)"
   ]
  },
  {
   "cell_type": "markdown",
   "id": "3f0c1936",
   "metadata": {},
   "source": [
    "## part 2"
   ]
  },
  {
   "cell_type": "code",
   "execution_count": 4,
   "id": "d36c187d",
   "metadata": {},
   "outputs": [],
   "source": [
    "choose = {\n",
    "    'A': {\n",
    "        'win': 'Y',\n",
    "        'lose': 'Z',\n",
    "        'tie': 'X'\n",
    "    },\n",
    "    'B': {\n",
    "        'win': 'Z',\n",
    "        'lose': 'X',\n",
    "        'tie': 'Y'\n",
    "    },\n",
    "    'C': {\n",
    "        'win': 'X',\n",
    "        'lose': 'Y',\n",
    "        'tie': 'Z'\n",
    "    }\n",
    "}"
   ]
  },
  {
   "cell_type": "code",
   "execution_count": 5,
   "id": "b89e1ae2",
   "metadata": {},
   "outputs": [],
   "source": [
    "scores = []\n",
    "\n",
    "with open('input.txt') as f:\n",
    "    for line in f:\n",
    "        opp, result = line.strip().split()\n",
    "        if result == 'X':\n",
    "            scores.append(values[choose[opp]['lose']])\n",
    "        elif result == 'Y':\n",
    "            scores.append(3 + values[choose[opp]['tie']])\n",
    "        else:\n",
    "            scores.append(6 + values[choose[opp]['win']])"
   ]
  },
  {
   "cell_type": "code",
   "execution_count": 6,
   "id": "837509df",
   "metadata": {},
   "outputs": [
    {
     "data": {
      "text/plain": [
       "10238"
      ]
     },
     "execution_count": 6,
     "metadata": {},
     "output_type": "execute_result"
    }
   ],
   "source": [
    "sum(scores)"
   ]
  },
  {
   "cell_type": "code",
   "execution_count": null,
   "id": "d35bdd2f",
   "metadata": {},
   "outputs": [],
   "source": []
  }
 ],
 "metadata": {
  "kernelspec": {
   "display_name": "Python 3 (ipykernel)",
   "language": "python",
   "name": "python3"
  },
  "language_info": {
   "codemirror_mode": {
    "name": "ipython",
    "version": 3
   },
   "file_extension": ".py",
   "mimetype": "text/x-python",
   "name": "python",
   "nbconvert_exporter": "python",
   "pygments_lexer": "ipython3",
   "version": "3.10.5"
  }
 },
 "nbformat": 4,
 "nbformat_minor": 5
}
