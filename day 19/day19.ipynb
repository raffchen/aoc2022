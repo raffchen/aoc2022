{
 "cells": [
  {
   "cell_type": "code",
   "execution_count": 1,
   "id": "ebc2a07e",
   "metadata": {},
   "outputs": [],
   "source": [
    "import re\n",
    "from collections import namedtuple, deque\n",
    "from functools import reduce"
   ]
  },
  {
   "cell_type": "code",
   "execution_count": 2,
   "id": "335fb36c",
   "metadata": {},
   "outputs": [],
   "source": [
    "Ingredients = namedtuple('Ingredients', 'ore,clay,obsidian')\n",
    "Blueprint = namedtuple('Blueprint', 'ore_robot,clay_robot,obsidian_robot,geode_robot')\n",
    "Node = namedtuple('Node', 'time,ore,clay,obsidian,geode,ore_robot,clay_robot,obsidian_robot,geode_robot')"
   ]
  },
  {
   "cell_type": "code",
   "execution_count": 3,
   "id": "66b1be3f",
   "metadata": {},
   "outputs": [],
   "source": [
    "def get_max_geode(blueprint, time=23, prune=10000):\n",
    "    start = Node(0, 0, 0, 0, 0, 1, 0, 0, 0)\n",
    "\n",
    "    queue = deque()\n",
    "    queue.append(start)\n",
    "\n",
    "    max_geode = 0\n",
    "\n",
    "    while len(queue) > 0:\n",
    "        if len(queue) > prune:\n",
    "            sorted_queue = sorted(queue,\n",
    "                key=lambda x: [\n",
    "    #                 x.time,\n",
    "                    -x.geode, -x.geode_robot,\n",
    "                    -x.obsidian, -x.obsidian_robot,\n",
    "                    -x.clay, -x.clay_robot,\n",
    "                    -x.ore, -x.ore_robot\n",
    "                ]\n",
    "            )\n",
    "            queue = deque(sorted_queue[:prune])\n",
    "\n",
    "        curr = queue.popleft()\n",
    "\n",
    "        current_ore      = curr.ore\n",
    "        current_clay     = curr.clay\n",
    "        current_obsidian = curr.obsidian\n",
    "        current_geode    = curr.geode\n",
    "\n",
    "        current_ore      += curr.ore_robot\n",
    "        current_clay     += curr.clay_robot\n",
    "        current_obsidian += curr.obsidian_robot\n",
    "        current_geode    += curr.geode_robot\n",
    "\n",
    "        if curr.time == time:\n",
    "            if current_geode > max_geode:\n",
    "                max_geode = current_geode\n",
    "            continue\n",
    "\n",
    "        can_build = 0\n",
    "\n",
    "        if curr.ore >= blueprint.ore_robot.ore:\n",
    "            if curr.ore_robot < max(blueprint, key=lambda x: x.ore).ore:\n",
    "                queue.append(\n",
    "                    Node(\n",
    "                        curr.time+1, \n",
    "                        current_ore-blueprint.ore_robot.ore, \n",
    "                        current_clay-blueprint.ore_robot.clay, \n",
    "                        current_obsidian-blueprint.ore_robot.obsidian, \n",
    "                        current_geode, \n",
    "                        curr.ore_robot+1, curr.clay_robot, curr.obsidian_robot, curr.geode_robot\n",
    "                    )\n",
    "                )\n",
    "                can_build += 1\n",
    "\n",
    "        if curr.ore >= blueprint.clay_robot.ore:\n",
    "            if curr.clay_robot < max(blueprint, key=lambda x: x.clay).clay:\n",
    "                queue.append(\n",
    "                    Node(\n",
    "                        curr.time+1, \n",
    "                        current_ore-blueprint.clay_robot.ore, \n",
    "                        current_clay-blueprint.clay_robot.clay,\n",
    "                        current_obsidian-blueprint.clay_robot.obsidian, \n",
    "                        current_geode, \n",
    "                        curr.ore_robot, curr.clay_robot+1, curr.obsidian_robot, curr.geode_robot\n",
    "                    )\n",
    "                )\n",
    "                can_build += 1\n",
    "\n",
    "        if curr.ore >= blueprint.obsidian_robot.ore and curr.clay >= blueprint.obsidian_robot.clay:\n",
    "            if curr.obsidian_robot < max(blueprint, key=lambda x: x.obsidian).obsidian:\n",
    "                queue.append(\n",
    "                    Node(\n",
    "                        curr.time+1, \n",
    "                        current_ore-blueprint.obsidian_robot.ore, \n",
    "                        current_clay-blueprint.obsidian_robot.clay, \n",
    "                        current_obsidian-blueprint.obsidian_robot.obsidian, \n",
    "                        current_geode, \n",
    "                        curr.ore_robot, curr.clay_robot, curr.obsidian_robot+1, curr.geode_robot\n",
    "                    )\n",
    "                )\n",
    "                can_build += 1\n",
    "\n",
    "        if curr.ore >= blueprint.geode_robot.ore and curr.obsidian >= blueprint.geode_robot.obsidian:        \n",
    "            queue.append(\n",
    "                Node(\n",
    "                    curr.time+1, \n",
    "                    current_ore-blueprint.geode_robot.ore, \n",
    "                    current_clay-blueprint.geode_robot.clay, \n",
    "                    current_obsidian-blueprint.geode_robot.obsidian, \n",
    "                    current_geode, \n",
    "                    curr.ore_robot, curr.clay_robot, curr.obsidian_robot, curr.geode_robot+1\n",
    "                )\n",
    "            )\n",
    "            can_build += 1\n",
    "\n",
    "        if can_build < 4:\n",
    "            queue.append(\n",
    "                Node(\n",
    "                    curr.time+1, current_ore, current_clay, current_obsidian, current_geode, \n",
    "                    curr.ore_robot, curr.clay_robot, curr.obsidian_robot, curr.geode_robot\n",
    "                )\n",
    "            )\n",
    "            \n",
    "    return max_geode"
   ]
  },
  {
   "cell_type": "code",
   "execution_count": 4,
   "id": "4cc31f41",
   "metadata": {},
   "outputs": [],
   "source": [
    "with open('input.txt') as f:\n",
    "    data = f.read().rstrip()"
   ]
  },
  {
   "cell_type": "markdown",
   "id": "a2c3eed1",
   "metadata": {},
   "source": [
    "## part 1"
   ]
  },
  {
   "cell_type": "code",
   "execution_count": 5,
   "id": "34e22099",
   "metadata": {},
   "outputs": [
    {
     "name": "stdout",
     "output_type": "stream",
     "text": [
      "{1: 4, 2: 6, 3: 3, 4: 0, 5: 5, 6: 15, 7: 12, 8: 8, 9: 0, 10: 2, 11: 5, 12: 5, 13: 0, 14: 0, 15: 3, 16: 2, 17: 0, 18: 1, 19: 3, 20: 0, 21: 0, 22: 0, 23: 2, 24: 3, 25: 2, 26: 0, 27: 0, 28: 8, 29: 0, 30: 7}\n",
      "answer: 1177\n"
     ]
    }
   ],
   "source": [
    "scores = {}\n",
    "\n",
    "for line in data.splitlines():\n",
    "    b, r1, r2, r3, r4, r5, r6 = list(map(int, re.findall('\\d+', line)))\n",
    "    blueprint = Blueprint(\n",
    "        Ingredients(r1, 0, 0), Ingredients(r2, 0, 0),\n",
    "        Ingredients(r3, r4, 0), Ingredients(r5, 0, r6)\n",
    "    )\n",
    "    scores[b] = get_max_geode(blueprint, prune=3000)\n",
    "    \n",
    "print(scores)\n",
    "print(f\"answer: {sum(k * v for k, v in scores.items())}\")"
   ]
  },
  {
   "cell_type": "markdown",
   "id": "16f2f302",
   "metadata": {},
   "source": [
    "## part 2"
   ]
  },
  {
   "cell_type": "code",
   "execution_count": 6,
   "id": "3f8f27f9",
   "metadata": {},
   "outputs": [
    {
     "name": "stdout",
     "output_type": "stream",
     "text": [
      "{1: 44, 2: 46, 3: 31}\n",
      "answer: 62744\n"
     ]
    }
   ],
   "source": [
    "scores = {}\n",
    "\n",
    "for line in data.splitlines()[:3]:\n",
    "    b, r1, r2, r3, r4, r5, r6 = list(map(int, re.findall('\\d+', line)))\n",
    "    blueprint = Blueprint(\n",
    "        Ingredients(r1, 0, 0), Ingredients(r2, 0, 0),\n",
    "        Ingredients(r3, r4, 0), Ingredients(r5, 0, r6)\n",
    "    )\n",
    "    scores[b] = get_max_geode(blueprint, time=31, prune=10000)\n",
    "    \n",
    "print(scores)\n",
    "print(f\"answer: {reduce((lambda x, y: x * y), scores.values())}\")"
   ]
  },
  {
   "cell_type": "code",
   "execution_count": null,
   "id": "da03d89a",
   "metadata": {},
   "outputs": [],
   "source": []
  }
 ],
 "metadata": {
  "kernelspec": {
   "display_name": "Python 3 (ipykernel)",
   "language": "python",
   "name": "python3"
  },
  "language_info": {
   "codemirror_mode": {
    "name": "ipython",
    "version": 3
   },
   "file_extension": ".py",
   "mimetype": "text/x-python",
   "name": "python",
   "nbconvert_exporter": "python",
   "pygments_lexer": "ipython3",
   "version": "3.9.12"
  }
 },
 "nbformat": 4,
 "nbformat_minor": 5
}
