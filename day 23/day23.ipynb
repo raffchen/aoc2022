{
 "cells": [
  {
   "cell_type": "code",
   "execution_count": 1,
   "id": "b9fed3c0",
   "metadata": {},
   "outputs": [],
   "source": [
    "import numpy as np\n",
    "from collections import defaultdict"
   ]
  },
  {
   "cell_type": "code",
   "execution_count": 2,
   "id": "ec5f1dd7",
   "metadata": {},
   "outputs": [],
   "source": [
    "with open('input.txt') as f:\n",
    "    data = np.array([list(line) for line in f.read().rstrip().splitlines()])"
   ]
  },
  {
   "cell_type": "code",
   "execution_count": 3,
   "id": "140c9de6",
   "metadata": {},
   "outputs": [],
   "source": [
    "def surrounding_check(grid, pos):\n",
    "    y, x = pos\n",
    "    for delta_y in (-1, 0, 1):\n",
    "        for delta_x in (-1, 0, 1):\n",
    "            if delta_y == 0 and delta_x == 0:\n",
    "                continue\n",
    "            new_y = y + delta_y\n",
    "            new_x = x + delta_x\n",
    "            if grid[new_y, new_x] == '#':\n",
    "                return False\n",
    "    return True\n",
    "\n",
    "def north_check(grid, pos):\n",
    "    y, x = pos\n",
    "    if grid[y-1, x-1] == '#' or grid[y-1, x] == '#' or grid[y-1, x+1] == '#':\n",
    "        return False\n",
    "    else:\n",
    "        return (y-1, x)\n",
    "    \n",
    "def south_check(grid, pos):\n",
    "    y, x = pos\n",
    "    if grid[y+1, x-1] == '#' or grid[y+1, x] == '#' or grid[y+1, x+1] == '#':\n",
    "        return False\n",
    "    else:\n",
    "        return (y+1, x)\n",
    "    \n",
    "def west_check(grid, pos):\n",
    "    y, x = pos\n",
    "    if grid[y-1, x-1] == '#' or grid[y, x-1] == '#' or grid[y+1, x-1] == '#':\n",
    "        return False\n",
    "    else:\n",
    "        return (y, x-1)\n",
    "    \n",
    "def east_check(grid, pos):\n",
    "    y, x = pos\n",
    "    if grid[y-1, x+1] == '#' or grid[y, x+1] == '#' or grid[y+1, x+1] == '#':\n",
    "        return False\n",
    "    else:\n",
    "        return (y, x+1)"
   ]
  },
  {
   "cell_type": "markdown",
   "id": "f2ec29ae",
   "metadata": {},
   "source": [
    "## part 1"
   ]
  },
  {
   "cell_type": "code",
   "execution_count": 4,
   "id": "879552cf",
   "metadata": {
    "scrolled": false
   },
   "outputs": [
    {
     "name": "stdout",
     "output_type": "stream",
     "text": [
      "4000\n"
     ]
    }
   ],
   "source": [
    "h, w = data.shape\n",
    "grid = np.zeros((h*3, w*3), dtype='<U1')\n",
    "grid[:] = '.'\n",
    "grid[h:h*2, w:w*2] = data\n",
    "\n",
    "checks = [north_check, south_check, west_check, east_check]\n",
    "\n",
    "for rounds in range(10):\n",
    "    elves = np.argwhere(grid == '#')\n",
    "    moves = []\n",
    "    move_counts = defaultdict(int)\n",
    "\n",
    "    for e in elves:\n",
    "        if surrounding_check(grid, e):\n",
    "            moves.append((e[0], e[1]))\n",
    "        else:\n",
    "            for check in checks:\n",
    "                if (proposed_move := check(grid, e)) is not False:\n",
    "                    moves.append(proposed_move)\n",
    "                    move_counts[proposed_move] += 1\n",
    "                    break\n",
    "            else:\n",
    "                moves.append((e[0], e[1]))\n",
    "\n",
    "    grid[:] = '.'\n",
    "\n",
    "    for (e_y, e_x), (m_y, m_x) in zip(elves, moves):\n",
    "        if (m_y, m_x) not in move_counts or move_counts[(m_y, m_x)] == 1:\n",
    "            grid[m_y, m_x] = '#'\n",
    "        else:\n",
    "            grid[e_y, e_x] = '#'\n",
    "\n",
    "    checks.append(checks.pop(0))\n",
    "    \n",
    "elves = np.argwhere(grid == '#')\n",
    "min_y = elves[:, 0].min()\n",
    "max_y = elves[:, 0].max()\n",
    "min_x = elves[:, 1].min()\n",
    "max_x = elves[:, 1].max()\n",
    "print(np.sum(grid[min_y:max_y+1, min_x:max_x+1] == '.'))"
   ]
  },
  {
   "cell_type": "markdown",
   "id": "ab1bafc0",
   "metadata": {},
   "source": [
    "## part 2"
   ]
  },
  {
   "cell_type": "code",
   "execution_count": 5,
   "id": "ef575ee3",
   "metadata": {},
   "outputs": [
    {
     "name": "stdout",
     "output_type": "stream",
     "text": [
      "1040\n"
     ]
    }
   ],
   "source": [
    "h, w = data.shape\n",
    "grid = np.zeros((h*5, w*5), dtype='<U1')\n",
    "grid[:] = '.'\n",
    "grid[h*2:h*3, w*2:w*3] = data\n",
    "\n",
    "checks = [north_check, south_check, west_check, east_check]\n",
    "rounds = 0\n",
    "\n",
    "while True:\n",
    "    rounds += 1\n",
    "    elves = np.argwhere(grid == '#')\n",
    "    moves = []\n",
    "    move_counts = defaultdict(int)\n",
    "\n",
    "    for e in elves:\n",
    "        if surrounding_check(grid, e):\n",
    "            moves.append((e[0], e[1]))\n",
    "        else:\n",
    "            for check in checks:\n",
    "                if (proposed_move := check(grid, e)) is not False:\n",
    "                    moves.append(proposed_move)\n",
    "                    move_counts[proposed_move] += 1\n",
    "                    break\n",
    "            else:\n",
    "                moves.append((e[0], e[1]))\n",
    "    \n",
    "    if all(e_y == m_y and e_x == m_x for (e_y, e_x), (m_y, m_x) in zip(elves, moves)):\n",
    "        break\n",
    "        \n",
    "    grid[:] = '.'\n",
    "\n",
    "    for (e_y, e_x), (m_y, m_x) in zip(elves, moves):\n",
    "        if (m_y, m_x) not in move_counts or move_counts[(m_y, m_x)] == 1:\n",
    "            grid[m_y, m_x] = '#'\n",
    "        else:\n",
    "            grid[e_y, e_x] = '#'\n",
    "\n",
    "    checks.append(checks.pop(0))\n",
    "    \n",
    "print(rounds)"
   ]
  },
  {
   "cell_type": "code",
   "execution_count": null,
   "id": "948fb740",
   "metadata": {},
   "outputs": [],
   "source": []
  }
 ],
 "metadata": {
  "kernelspec": {
   "display_name": "Python 3 (ipykernel)",
   "language": "python",
   "name": "python3"
  },
  "language_info": {
   "codemirror_mode": {
    "name": "ipython",
    "version": 3
   },
   "file_extension": ".py",
   "mimetype": "text/x-python",
   "name": "python",
   "nbconvert_exporter": "python",
   "pygments_lexer": "ipython3",
   "version": "3.9.12"
  }
 },
 "nbformat": 4,
 "nbformat_minor": 5
}
