{
 "cells": [
  {
   "cell_type": "code",
   "execution_count": 1,
   "id": "600247c8",
   "metadata": {},
   "outputs": [],
   "source": [
    "import numpy as np"
   ]
  },
  {
   "cell_type": "markdown",
   "id": "206de4ce",
   "metadata": {},
   "source": [
    "## part 1"
   ]
  },
  {
   "cell_type": "code",
   "execution_count": 2,
   "id": "82f28431",
   "metadata": {},
   "outputs": [],
   "source": [
    "with open('input.txt') as f:\n",
    "    data = []\n",
    "    \n",
    "    for line in f.read().splitlines():\n",
    "        data.append([int(i) for i in line])\n",
    "        \n",
    "    data = np.array(data)"
   ]
  },
  {
   "cell_type": "code",
   "execution_count": 3,
   "id": "daa17921",
   "metadata": {},
   "outputs": [],
   "source": [
    "h, w = data.shape"
   ]
  },
  {
   "cell_type": "code",
   "execution_count": 4,
   "id": "ccd1d4b4",
   "metadata": {},
   "outputs": [
    {
     "data": {
      "text/plain": [
       "1424"
      ]
     },
     "execution_count": 4,
     "metadata": {},
     "output_type": "execute_result"
    }
   ],
   "source": [
    "inside_visible = 0\n",
    "\n",
    "for hi in range(1, h-1):\n",
    "    for wi in range(1, w-1):\n",
    "        visible = False\n",
    "        \n",
    "        tree_height = data[hi, wi]\n",
    "        # top\n",
    "        if sum(tree_height <= data[:hi, wi]) == 0:\n",
    "            visible = True\n",
    "        # bottom\n",
    "        if sum(tree_height <= data[hi+1:, wi]) == 0:\n",
    "            visible = True\n",
    "        # left\n",
    "        if sum(tree_height <= data[hi, :wi]) == 0:\n",
    "            visible = True\n",
    "        # right\n",
    "        if sum(tree_height <= data[hi, wi+1:]) == 0:\n",
    "            visible = True\n",
    "        \n",
    "        if visible:\n",
    "            inside_visible += 1\n",
    "\n",
    "inside_visible"
   ]
  },
  {
   "cell_type": "code",
   "execution_count": 5,
   "id": "a2cac21a",
   "metadata": {},
   "outputs": [
    {
     "data": {
      "text/plain": [
       "1816"
      ]
     },
     "execution_count": 5,
     "metadata": {},
     "output_type": "execute_result"
    }
   ],
   "source": [
    "total_visible = inside_visible + 2 * h + 2 * (w - 2)\n",
    "total_visible"
   ]
  },
  {
   "cell_type": "markdown",
   "id": "09da0f98",
   "metadata": {},
   "source": [
    "## part 2"
   ]
  },
  {
   "cell_type": "code",
   "execution_count": 6,
   "id": "2cb60064",
   "metadata": {},
   "outputs": [
    {
     "data": {
      "text/plain": [
       "383520"
      ]
     },
     "execution_count": 6,
     "metadata": {},
     "output_type": "execute_result"
    }
   ],
   "source": [
    "scores = []\n",
    "\n",
    "# skipping edges since their scores will be 0 anyway\n",
    "for hi in range(1, h-1):\n",
    "    for wi in range(1, w-1):\n",
    "        visible = []\n",
    "        \n",
    "        tree_height = data[hi, wi]\n",
    "\n",
    "        top = data[:hi, wi][::-1]\n",
    "        for i, other_height in enumerate(top, 1):\n",
    "            if tree_height <= other_height:\n",
    "                visible.append(i)\n",
    "                break\n",
    "            elif i == len(top):\n",
    "                visible.append(i)\n",
    "                break\n",
    "                \n",
    "        bottom = data[hi+1:, wi]\n",
    "        for i, other_height in enumerate(bottom, 1):\n",
    "            if tree_height <= other_height:\n",
    "                visible.append(i)\n",
    "                break\n",
    "            elif i == len(bottom):\n",
    "                visible.append(i)\n",
    "                break\n",
    "                \n",
    "        left = data[hi, :wi][::-1]\n",
    "        for i, other_height in enumerate(left, 1):\n",
    "            if tree_height <= other_height:\n",
    "                visible.append(i)\n",
    "                break\n",
    "            elif i == len(left):\n",
    "                visible.append(i)\n",
    "                break\n",
    "                \n",
    "        right = data[hi, wi+1:]\n",
    "        for i, other_height in enumerate(right, 1):\n",
    "            if tree_height <= other_height:\n",
    "                visible.append(i)\n",
    "                break\n",
    "            elif i == len(right):\n",
    "                visible.append(i)\n",
    "                break\n",
    "                \n",
    "        scores.append(np.prod(visible))\n",
    "        \n",
    "max(scores)"
   ]
  },
  {
   "cell_type": "code",
   "execution_count": null,
   "id": "2abd019e",
   "metadata": {},
   "outputs": [],
   "source": []
  }
 ],
 "metadata": {
  "kernelspec": {
   "display_name": "Python 3 (ipykernel)",
   "language": "python",
   "name": "python3"
  },
  "language_info": {
   "codemirror_mode": {
    "name": "ipython",
    "version": 3
   },
   "file_extension": ".py",
   "mimetype": "text/x-python",
   "name": "python",
   "nbconvert_exporter": "python",
   "pygments_lexer": "ipython3",
   "version": "3.10.5"
  }
 },
 "nbformat": 4,
 "nbformat_minor": 5
}
