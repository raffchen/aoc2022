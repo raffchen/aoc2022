{
 "cells": [
  {
   "cell_type": "code",
   "execution_count": 4,
   "id": "54451339",
   "metadata": {},
   "outputs": [],
   "source": [
    "def get_range(x):\n",
    "    start, end = x.split('-')\n",
    "    return range(int(start), int(end)+1)"
   ]
  },
  {
   "cell_type": "code",
   "execution_count": 6,
   "id": "9da359eb",
   "metadata": {},
   "outputs": [
    {
     "data": {
      "text/plain": [
       "459"
      ]
     },
     "execution_count": 6,
     "metadata": {},
     "output_type": "execute_result"
    }
   ],
   "source": [
    "count = 0\n",
    "\n",
    "with open('input.txt') as f:\n",
    "    for line in f:\n",
    "        line = line.strip()\n",
    "        e1, e2 = line.split(',')\n",
    "        e1 = set(get_range(e1))\n",
    "        e2 = set(get_range(e2))\n",
    "        \n",
    "        if e1.issubset(e2) or e2.issubset(e1):\n",
    "            count += 1\n",
    "\n",
    "count"
   ]
  },
  {
   "cell_type": "code",
   "execution_count": 7,
   "id": "f7b7a49c",
   "metadata": {},
   "outputs": [
    {
     "data": {
      "text/plain": [
       "779"
      ]
     },
     "execution_count": 7,
     "metadata": {},
     "output_type": "execute_result"
    }
   ],
   "source": [
    "count = 0\n",
    "\n",
    "with open('input.txt') as f:\n",
    "    for line in f:\n",
    "        line = line.strip()\n",
    "        e1, e2 = line.split(',')\n",
    "        e1 = set(get_range(e1))\n",
    "        e2 = set(get_range(e2))\n",
    "        \n",
    "        if len(e1.intersection(e2)):\n",
    "            count += 1\n",
    "\n",
    "count"
   ]
  },
  {
   "cell_type": "code",
   "execution_count": null,
   "id": "ad7997f9",
   "metadata": {},
   "outputs": [],
   "source": []
  }
 ],
 "metadata": {
  "kernelspec": {
   "display_name": "Python 3 (ipykernel)",
   "language": "python",
   "name": "python3"
  },
  "language_info": {
   "codemirror_mode": {
    "name": "ipython",
    "version": 3
   },
   "file_extension": ".py",
   "mimetype": "text/x-python",
   "name": "python",
   "nbconvert_exporter": "python",
   "pygments_lexer": "ipython3",
   "version": "3.10.5"
  }
 },
 "nbformat": 4,
 "nbformat_minor": 5
}
