{
 "cells": [
  {
   "cell_type": "code",
   "execution_count": 1,
   "id": "e230fdb0",
   "metadata": {},
   "outputs": [],
   "source": [
    "def snafu_to_dec(n):\n",
    "    decimal = 0\n",
    "    for digit in n:\n",
    "        decimal = decimal*5 + {'2':2, '1':1, '0':0, '-':-1, '=':-2}[digit]\n",
    "    return decimal\n",
    "\n",
    "def dec_to_quinary(n):\n",
    "    out = ''\n",
    "    while n > 0:\n",
    "        n, r = divmod(n, 5)\n",
    "        out = str(r) + out\n",
    "    return out\n",
    "\n",
    "def dec_to_snafu(n):\n",
    "    out = ''\n",
    "    while n > 0:\n",
    "        n, r = divmod(n, 5)\n",
    "        if r == 3:\n",
    "            out = '=' + out\n",
    "            n += 1\n",
    "        elif r == 4:\n",
    "            out = '-' + out\n",
    "            n += 1\n",
    "        else:\n",
    "            out = str(r) + out\n",
    "    return out"
   ]
  },
  {
   "cell_type": "code",
   "execution_count": 2,
   "id": "9e5b722f",
   "metadata": {},
   "outputs": [],
   "source": [
    "with open('input.txt') as f:\n",
    "    data = f.read().rstrip().splitlines()"
   ]
  },
  {
   "cell_type": "code",
   "execution_count": 3,
   "id": "4640ce9f",
   "metadata": {},
   "outputs": [
    {
     "name": "stdout",
     "output_type": "stream",
     "text": [
      "total: decimal=34191676204851, snafu='2-0-020-1==1021=--01'\n"
     ]
    }
   ],
   "source": [
    "total = 0\n",
    "\n",
    "for line in data:\n",
    "    total += snafu_to_dec(line)\n",
    "    \n",
    "print(f\"total: decimal={total}, snafu='{dec_to_snafu(total)}'\")"
   ]
  },
  {
   "cell_type": "code",
   "execution_count": null,
   "id": "d3a1a6dd",
   "metadata": {},
   "outputs": [],
   "source": []
  }
 ],
 "metadata": {
  "kernelspec": {
   "display_name": "Python 3 (ipykernel)",
   "language": "python",
   "name": "python3"
  },
  "language_info": {
   "codemirror_mode": {
    "name": "ipython",
    "version": 3
   },
   "file_extension": ".py",
   "mimetype": "text/x-python",
   "name": "python",
   "nbconvert_exporter": "python",
   "pygments_lexer": "ipython3",
   "version": "3.9.12"
  }
 },
 "nbformat": 4,
 "nbformat_minor": 5
}
