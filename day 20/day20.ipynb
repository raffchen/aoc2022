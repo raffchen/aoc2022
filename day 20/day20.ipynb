{
 "cells": [
  {
   "cell_type": "code",
   "execution_count": 1,
   "id": "385ff8fa",
   "metadata": {},
   "outputs": [],
   "source": [
    "with open('input.txt') as f:\n",
    "    data = [int(i) for i in f.read().rstrip().splitlines()]"
   ]
  },
  {
   "cell_type": "code",
   "execution_count": 2,
   "id": "c67ef3d9",
   "metadata": {},
   "outputs": [],
   "source": [
    "def foo(lst, idx):\n",
    "    base = (lst[idx] % (len(lst) - 1)) + idx\n",
    "    if base < len(lst):\n",
    "        return base\n",
    "    else:\n",
    "        return base % (len(lst) - 1)"
   ]
  },
  {
   "cell_type": "markdown",
   "id": "f51715db",
   "metadata": {},
   "source": [
    "## part 1"
   ]
  },
  {
   "cell_type": "code",
   "execution_count": 3,
   "id": "8a0002b4",
   "metadata": {},
   "outputs": [],
   "source": [
    "a = data\n",
    "indices = list(range(len(a)))\n",
    "\n",
    "for i in range(len(indices)):\n",
    "    idx = indices[i]\n",
    "    new_idx = foo(a, idx)\n",
    "\n",
    "    indices[i] = new_idx\n",
    "    \n",
    "    if new_idx > idx:\n",
    "        for i1 in range(len(indices)):\n",
    "            if i1 != i and indices[i1] > idx and indices[i1] <= new_idx:\n",
    "                indices[i1] -= 1\n",
    "    else:\n",
    "        for i1 in range(len(indices)):\n",
    "            if i1 != i and indices[i1] >= new_idx and indices[i1] < idx:\n",
    "                indices[i1] += 1\n",
    "\n",
    "    b = a[:idx] + a[idx+1:]\n",
    "    b.insert(new_idx, a[idx])\n",
    "    a = b"
   ]
  },
  {
   "cell_type": "code",
   "execution_count": 4,
   "id": "88be6bee",
   "metadata": {},
   "outputs": [
    {
     "data": {
      "text/plain": [
       "2215"
      ]
     },
     "execution_count": 4,
     "metadata": {},
     "output_type": "execute_result"
    }
   ],
   "source": [
    "zero_loc = a.index(0)\n",
    "sum([a[(i+zero_loc) % len(a)] for i in [1000, 2000, 3000]])"
   ]
  },
  {
   "cell_type": "markdown",
   "id": "cef9858b",
   "metadata": {},
   "source": [
    "## part 2"
   ]
  },
  {
   "cell_type": "code",
   "execution_count": 5,
   "id": "50ee28c9",
   "metadata": {
    "scrolled": false
   },
   "outputs": [],
   "source": [
    "a = [i * 811589153 for i in data]\n",
    "indices = list(range(len(a)))\n",
    "\n",
    "for _ in range(10):\n",
    "    for i in range(len(indices)):\n",
    "        idx = indices[i]\n",
    "        new_idx = foo(a, idx)\n",
    "\n",
    "        indices[i] = new_idx\n",
    "        \n",
    "        if new_idx > idx:\n",
    "            for i1 in range(len(indices)):\n",
    "                if i1 != i and indices[i1] > idx and indices[i1] <= new_idx:\n",
    "                    indices[i1] -= 1\n",
    "        else:\n",
    "            for i1 in range(len(indices)):\n",
    "                if i1 != i and indices[i1] >= new_idx and indices[i1] < idx:\n",
    "                    indices[i1] += 1\n",
    "                \n",
    "        b = a[:idx] + a[idx+1:]\n",
    "        b.insert(new_idx, a[idx])\n",
    "        a = b"
   ]
  },
  {
   "cell_type": "code",
   "execution_count": 6,
   "id": "072477fd",
   "metadata": {},
   "outputs": [
    {
     "data": {
      "text/plain": [
       "8927480683"
      ]
     },
     "execution_count": 6,
     "metadata": {},
     "output_type": "execute_result"
    }
   ],
   "source": [
    "zero_loc = a.index(0)\n",
    "sum([a[(i+zero_loc) % len(a)] for i in [1000, 2000, 3000]])"
   ]
  },
  {
   "cell_type": "code",
   "execution_count": null,
   "id": "0693b6ec",
   "metadata": {},
   "outputs": [],
   "source": []
  }
 ],
 "metadata": {
  "kernelspec": {
   "display_name": "Python 3 (ipykernel)",
   "language": "python",
   "name": "python3"
  },
  "language_info": {
   "codemirror_mode": {
    "name": "ipython",
    "version": 3
   },
   "file_extension": ".py",
   "mimetype": "text/x-python",
   "name": "python",
   "nbconvert_exporter": "python",
   "pygments_lexer": "ipython3",
   "version": "3.9.12"
  }
 },
 "nbformat": 4,
 "nbformat_minor": 5
}
