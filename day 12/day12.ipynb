{
 "cells": [
  {
   "cell_type": "code",
   "execution_count": 1,
   "id": "0b2dba9f",
   "metadata": {},
   "outputs": [],
   "source": [
    "with open('input.txt') as f:\n",
    "    data = f.read().rstrip()"
   ]
  },
  {
   "cell_type": "code",
   "execution_count": 2,
   "id": "c6d98e95",
   "metadata": {},
   "outputs": [],
   "source": [
    "import numpy as np"
   ]
  },
  {
   "cell_type": "markdown",
   "id": "de85df81",
   "metadata": {},
   "source": [
    "## part 1"
   ]
  },
  {
   "cell_type": "code",
   "execution_count": 3,
   "id": "289087eb",
   "metadata": {},
   "outputs": [],
   "source": [
    "a = np.array([list(s) for s in data.splitlines()], dtype=str)"
   ]
  },
  {
   "cell_type": "code",
   "execution_count": 4,
   "id": "15be3b61",
   "metadata": {},
   "outputs": [
    {
     "data": {
      "text/plain": [
       "490"
      ]
     },
     "execution_count": 4,
     "metadata": {},
     "output_type": "execute_result"
    }
   ],
   "source": [
    "visited = set()\n",
    "distances = {}\n",
    "\n",
    "current = tuple(np.argwhere(a == 'S')[0])\n",
    "target = tuple(np.argwhere(a == 'E')[0])\n",
    "visited.add(current)\n",
    "distances[current] = 0\n",
    "\n",
    "while target not in visited:\n",
    "    y, x = current\n",
    "\n",
    "    if a[y, x] == 'S':\n",
    "        ord_current = ord('a')\n",
    "    else:\n",
    "        ord_current = ord(a[y, x])\n",
    "\n",
    "    if y - 1 >= 0 and (y-1, x) not in visited:\n",
    "        if a[y-1, x] == 'E':\n",
    "            ord_target = ord('z')\n",
    "        else:\n",
    "            ord_target = ord(a[y-1, x])\n",
    "\n",
    "        if ord_target - ord_current <= 1:\n",
    "            if (y-1, x) not in distances or distances[current] + 1 < distances[(y-1, x)]:\n",
    "                distances[(y-1, x)] = distances[current] + 1\n",
    "\n",
    "    if y + 1 < a.shape[0] and (y+1, x) not in visited:\n",
    "        if a[y+1, x] == 'E':\n",
    "            ord_target = ord('z')\n",
    "        else:\n",
    "            ord_target = ord(a[y+1, x])\n",
    "\n",
    "        if ord_target - ord_current <= 1:\n",
    "            if (y+1, x) not in distances or distances[current] + 1 < distances[(y+1, x)]:\n",
    "                distances[(y+1, x)] = distances[current] + 1\n",
    "\n",
    "    if x - 1 >= 0 and (y, x-1) not in visited:\n",
    "        if a[y, x-1] == 'E':\n",
    "            ord_target = ord('z')\n",
    "        else:\n",
    "            ord_target = ord(a[y, x-1])\n",
    "\n",
    "        if ord_target - ord_current <= 1:\n",
    "            if (y, x-1) not in distances or distances[current] + 1 < distances[(y, x-1)]:\n",
    "                distances[(y, x-1)] = distances[current] + 1\n",
    "\n",
    "    if x + 1 < a.shape[1] and (y, x+1) not in visited:\n",
    "        if a[y, x+1] == 'E':\n",
    "            ord_target = ord('z')\n",
    "        else:\n",
    "            ord_target = ord(a[y, x+1])\n",
    "\n",
    "        if ord_target - ord_current <= 1:\n",
    "            if (y, x+1) not in distances or distances[current] + 1 < distances[(y, x+1)]:\n",
    "                distances[(y, x+1)] = distances[current] + 1    \n",
    "    \n",
    "    current = min(visited.symmetric_difference(distances), key=lambda x: distances[x])\n",
    "    visited.add(current)\n",
    "    \n",
    "distances[target]"
   ]
  },
  {
   "cell_type": "markdown",
   "id": "a2386cc8",
   "metadata": {},
   "source": [
    "## part 2"
   ]
  },
  {
   "cell_type": "code",
   "execution_count": 5,
   "id": "144e74a8",
   "metadata": {},
   "outputs": [
    {
     "data": {
      "text/plain": [
       "488"
      ]
     },
     "execution_count": 5,
     "metadata": {},
     "output_type": "execute_result"
    }
   ],
   "source": [
    "starts = np.concatenate((np.argwhere(a == 'a'), np.argwhere(a == 'S')))\n",
    "target = tuple(np.argwhere(a == 'E')[0])\n",
    "\n",
    "best = float('inf')\n",
    "\n",
    "for start in starts:\n",
    "    visited = set()\n",
    "    distances = {}\n",
    "\n",
    "    current = tuple(start)\n",
    "    visited.add(current)\n",
    "    distances[current] = 0\n",
    "    \n",
    "    while target not in visited:\n",
    "        y, x = current\n",
    "\n",
    "        if a[y, x] == 'S':\n",
    "            ord_current = ord('a')\n",
    "        else:\n",
    "            ord_current = ord(a[y, x])\n",
    "\n",
    "        if y - 1 >= 0 and (y-1, x) not in visited:\n",
    "            if a[y-1, x] == 'E':\n",
    "                ord_target = ord('z')\n",
    "            else:\n",
    "                ord_target = ord(a[y-1, x])\n",
    "\n",
    "            if ord_target - ord_current <= 1:\n",
    "                if (y-1, x) not in distances or distances[current] + 1 < distances[(y-1, x)]:\n",
    "                    distances[(y-1, x)] = distances[current] + 1\n",
    "\n",
    "        if y + 1 < a.shape[0] and (y+1, x) not in visited:\n",
    "            if a[y+1, x] == 'E':\n",
    "                ord_target = ord('z')\n",
    "            else:\n",
    "                ord_target = ord(a[y+1, x])\n",
    "\n",
    "            if ord_target - ord_current <= 1:\n",
    "                if (y+1, x) not in distances or distances[current] + 1 < distances[(y+1, x)]:\n",
    "                    distances[(y+1, x)] = distances[current] + 1\n",
    "\n",
    "        if x - 1 >= 0 and (y, x-1) not in visited:\n",
    "            if a[y, x-1] == 'E':\n",
    "                ord_target = ord('z')\n",
    "            else:\n",
    "                ord_target = ord(a[y, x-1])\n",
    "\n",
    "            if ord_target - ord_current <= 1:\n",
    "                if (y, x-1) not in distances or distances[current] + 1 < distances[(y, x-1)]:\n",
    "                    distances[(y, x-1)] = distances[current] + 1\n",
    "\n",
    "        if x + 1 < a.shape[1] and (y, x+1) not in visited:\n",
    "            if a[y, x+1] == 'E':\n",
    "                ord_target = ord('z')\n",
    "            else:\n",
    "                ord_target = ord(a[y, x+1])\n",
    "\n",
    "            if ord_target - ord_current <= 1:\n",
    "                if (y, x+1) not in distances or distances[current] + 1 < distances[(y, x+1)]:\n",
    "                    distances[(y, x+1)] = distances[current] + 1    \n",
    "        \n",
    "        try:\n",
    "            current = min(visited.symmetric_difference(distances), key=lambda x: distances[x])\n",
    "            visited.add(current)\n",
    "        except ValueError:\n",
    "            break\n",
    "    \n",
    "    if target in distances and distances[target] < best:\n",
    "        best = distances[target]\n",
    "        \n",
    "best"
   ]
  },
  {
   "cell_type": "code",
   "execution_count": null,
   "id": "530add3c",
   "metadata": {},
   "outputs": [],
   "source": []
  }
 ],
 "metadata": {
  "kernelspec": {
   "display_name": "Python 3 (ipykernel)",
   "language": "python",
   "name": "python3"
  },
  "language_info": {
   "codemirror_mode": {
    "name": "ipython",
    "version": 3
   },
   "file_extension": ".py",
   "mimetype": "text/x-python",
   "name": "python",
   "nbconvert_exporter": "python",
   "pygments_lexer": "ipython3",
   "version": "3.9.12"
  }
 },
 "nbformat": 4,
 "nbformat_minor": 5
}
