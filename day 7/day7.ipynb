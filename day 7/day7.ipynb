{
 "cells": [
  {
   "cell_type": "markdown",
   "id": "622eb9fe",
   "metadata": {},
   "source": [
    "## part 1"
   ]
  },
  {
   "cell_type": "code",
   "execution_count": 1,
   "id": "f74c43f1",
   "metadata": {},
   "outputs": [],
   "source": [
    "with open('input.txt') as f:\n",
    "    data = f.read().rstrip().splitlines()"
   ]
  },
  {
   "cell_type": "code",
   "execution_count": 2,
   "id": "c22623a9",
   "metadata": {},
   "outputs": [],
   "source": [
    "class Dir:\n",
    "    def __init__(self, name, parent=None, child_dirs=None, child_files=None, files_size=0):\n",
    "        self.name = name\n",
    "        self.parent = parent\n",
    "        self.child_dirs = dict() if child_dirs is None else child_dirs\n",
    "        self.child_files = list() if child_files is None else child_files\n",
    "        self.files_size = files_size\n",
    "        \n",
    "    def add_file(self, child):\n",
    "        self.child_files.append(child)\n",
    "        self.files_size += child.size\n",
    "        \n",
    "    def add_dir(self, child):\n",
    "        self.child_dirs[child.name] = child\n",
    "        \n",
    "    @property\n",
    "    def size(self):\n",
    "        return sum([d.size for name, d in self.child_dirs.items()]) + self.files_size\n",
    "        \n",
    "class File:\n",
    "    def __init__(self, name, size=0):\n",
    "        self.name = name\n",
    "        self.size = size"
   ]
  },
  {
   "cell_type": "code",
   "execution_count": 3,
   "id": "28cbe482",
   "metadata": {
    "scrolled": true
   },
   "outputs": [],
   "source": [
    "root = None\n",
    "curr = None\n",
    "\n",
    "for line in data:\n",
    "    if line.startswith('$'):\n",
    "        cmd = line[2:].split()\n",
    "        if cmd[0] == 'cd':\n",
    "            name = cmd[1]\n",
    "            if name == '/':\n",
    "                root = Dir(name)\n",
    "                curr = root\n",
    "            elif name == '..':\n",
    "                curr = curr.parent\n",
    "            else:           \n",
    "                curr = curr.child_dirs[name]\n",
    "    else:\n",
    "        result = line.split()\n",
    "        if result[0] == 'dir':\n",
    "            new_dir = Dir(name=result[1])\n",
    "            new_dir.parent = curr\n",
    "            curr.add_dir(new_dir)\n",
    "        else:\n",
    "            new_file = File(name=result[1], size=int(result[0]))\n",
    "            curr.add_file(new_file)"
   ]
  },
  {
   "cell_type": "code",
   "execution_count": 4,
   "id": "72bd3d3a",
   "metadata": {},
   "outputs": [
    {
     "data": {
      "text/plain": [
       "1454188"
      ]
     },
     "execution_count": 4,
     "metadata": {},
     "output_type": "execute_result"
    }
   ],
   "source": [
    "queue = [root]\n",
    "total = 0\n",
    "\n",
    "while len(queue) > 0:\n",
    "    node = queue.pop()\n",
    "    size = node.size\n",
    "    if size <= 100000:\n",
    "        total += size\n",
    "    queue.extend(node.child_dirs.values())\n",
    "    \n",
    "total"
   ]
  },
  {
   "cell_type": "markdown",
   "id": "2a4fed06",
   "metadata": {},
   "source": [
    "## part 2"
   ]
  },
  {
   "cell_type": "code",
   "execution_count": 5,
   "id": "38a72c8d",
   "metadata": {},
   "outputs": [],
   "source": [
    "queue = [root]\n",
    "sizes = {}\n",
    "\n",
    "while len(queue) > 0:\n",
    "    node = queue.pop()\n",
    "    size = node.size\n",
    "    sizes[node.name] = size\n",
    "    queue.extend(node.child_dirs.values())"
   ]
  },
  {
   "cell_type": "code",
   "execution_count": 6,
   "id": "60e7ee8a",
   "metadata": {},
   "outputs": [
    {
     "data": {
      "text/plain": [
       "3837783"
      ]
     },
     "execution_count": 6,
     "metadata": {},
     "output_type": "execute_result"
    }
   ],
   "source": [
    "free = 70000000 - sizes['/']\n",
    "needed = 30000000 - free\n",
    "needed"
   ]
  },
  {
   "cell_type": "code",
   "execution_count": 7,
   "id": "950b52db",
   "metadata": {},
   "outputs": [
    {
     "data": {
      "text/plain": [
       "4183246"
      ]
     },
     "execution_count": 7,
     "metadata": {},
     "output_type": "execute_result"
    }
   ],
   "source": [
    "min([v for k, v in sizes.items() if v >= needed])"
   ]
  },
  {
   "cell_type": "code",
   "execution_count": null,
   "id": "74744e1d",
   "metadata": {},
   "outputs": [],
   "source": []
  }
 ],
 "metadata": {
  "kernelspec": {
   "display_name": "Python 3 (ipykernel)",
   "language": "python",
   "name": "python3"
  },
  "language_info": {
   "codemirror_mode": {
    "name": "ipython",
    "version": 3
   },
   "file_extension": ".py",
   "mimetype": "text/x-python",
   "name": "python",
   "nbconvert_exporter": "python",
   "pygments_lexer": "ipython3",
   "version": "3.10.5"
  }
 },
 "nbformat": 4,
 "nbformat_minor": 5
}
