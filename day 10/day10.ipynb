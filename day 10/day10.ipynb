{
 "cells": [
  {
   "cell_type": "code",
   "execution_count": 25,
   "id": "a565f7a5",
   "metadata": {},
   "outputs": [],
   "source": [
    "import numpy as np"
   ]
  },
  {
   "cell_type": "code",
   "execution_count": 42,
   "id": "231c01ff",
   "metadata": {},
   "outputs": [],
   "source": [
    "with open('input.txt') as f:\n",
    "    datas = f.read().splitlines()"
   ]
  },
  {
   "cell_type": "markdown",
   "id": "e677a9f6",
   "metadata": {},
   "source": [
    "## part 1"
   ]
  },
  {
   "cell_type": "code",
   "execution_count": 20,
   "id": "e226bb18",
   "metadata": {},
   "outputs": [
    {
     "data": {
      "text/plain": [
       "[420, 1020, 2100, 2380, 3780, 8140]"
      ]
     },
     "execution_count": 20,
     "metadata": {},
     "output_type": "execute_result"
    }
   ],
   "source": [
    "wait = True\n",
    "wait_value = 0\n",
    "\n",
    "X = 1\n",
    "\n",
    "scores = []\n",
    "\n",
    "data = iter(data)\n",
    "\n",
    "for cycle in range(1, 500):\n",
    "    if wait:\n",
    "        wait = False\n",
    "        X += wait_value\n",
    "        wait_value = 0\n",
    "    else:\n",
    "        try:\n",
    "            inst = next(data)\n",
    "        except StopIteration:\n",
    "            break\n",
    "        \n",
    "        if inst != 'noop':\n",
    "            cmd, value = inst.split()\n",
    "            wait = True\n",
    "            wait_value = int(value)\n",
    "    \n",
    "    if cycle in (20, 60, 100, 140, 180, 220):\n",
    "        scores.append(cycle * X)\n",
    "        \n",
    "scores"
   ]
  },
  {
   "cell_type": "code",
   "execution_count": 21,
   "id": "a22efddb",
   "metadata": {},
   "outputs": [
    {
     "data": {
      "text/plain": [
       "17840"
      ]
     },
     "execution_count": 21,
     "metadata": {},
     "output_type": "execute_result"
    }
   ],
   "source": [
    "sum(scores)"
   ]
  },
  {
   "cell_type": "markdown",
   "id": "0feadd70",
   "metadata": {},
   "source": [
    "## part 2"
   ]
  },
  {
   "cell_type": "code",
   "execution_count": 52,
   "id": "3ae2e3cc",
   "metadata": {},
   "outputs": [],
   "source": [
    "grid = np.zeros((6, 40), dtype=str)\n",
    "\n",
    "wait = True\n",
    "wait_value = 0\n",
    "\n",
    "X = 1\n",
    "\n",
    "scores = []\n",
    "\n",
    "data = iter(datas)\n",
    "\n",
    "for cycle in range(0, 1000):\n",
    "    cycle = cycle % 240\n",
    "    cycleh, cyclei = divmod(cycle, 40)\n",
    "    cycleh = cycleh % 6\n",
    "    \n",
    "    if wait:\n",
    "        wait = False\n",
    "        X += wait_value\n",
    "        wait_value = 0\n",
    "    else:\n",
    "        try:\n",
    "            inst = next(data)\n",
    "        except StopIteration:\n",
    "            break\n",
    "        \n",
    "        if inst != 'noop':\n",
    "            cmd, value = inst.split()\n",
    "            wait = True\n",
    "            wait_value = int(value)\n",
    "            \n",
    "    if (X - 1) <= cyclei <= (X+1):\n",
    "        grid[cycleh, cyclei] = '#'\n",
    "    else:\n",
    "        grid[cycleh, cyclei] = ' '"
   ]
  },
  {
   "cell_type": "code",
   "execution_count": 53,
   "id": "6bb99287",
   "metadata": {},
   "outputs": [
    {
     "name": "stdout",
     "output_type": "stream",
     "text": [
      " ###  ##  #     ##  #  # #    ###   ##  \n",
      "#    #  # #    #  # #  # #    #  # #  # \n",
      "###  #  # #    #    #  # #    #  # #    \n",
      "#    #### #    # ## #  # #    ###  # ## \n",
      "#    #  # #    #  # #  # #    #    #  # \n",
      "#### #  # ####  ###  ##  #### #     ### \n"
     ]
    }
   ],
   "source": [
    "for line in grid:\n",
    "    print(''.join(line))"
   ]
  },
  {
   "cell_type": "code",
   "execution_count": null,
   "id": "37a03350",
   "metadata": {},
   "outputs": [],
   "source": []
  }
 ],
 "metadata": {
  "kernelspec": {
   "display_name": "Python 3 (ipykernel)",
   "language": "python",
   "name": "python3"
  },
  "language_info": {
   "codemirror_mode": {
    "name": "ipython",
    "version": 3
   },
   "file_extension": ".py",
   "mimetype": "text/x-python",
   "name": "python",
   "nbconvert_exporter": "python",
   "pygments_lexer": "ipython3",
   "version": "3.9.12"
  }
 },
 "nbformat": 4,
 "nbformat_minor": 5
}
