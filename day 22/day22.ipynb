{
 "cells": [
  {
   "cell_type": "code",
   "execution_count": 1,
   "id": "c382e660",
   "metadata": {},
   "outputs": [],
   "source": [
    "import numpy as np\n",
    "import re\n",
    "\n",
    "from dataclasses import dataclass"
   ]
  },
  {
   "cell_type": "code",
   "execution_count": 2,
   "id": "e5f5d07e",
   "metadata": {},
   "outputs": [],
   "source": [
    "@dataclass\n",
    "class Human:\n",
    "    x: int\n",
    "    y: int\n",
    "    facing: int\n",
    "        \n",
    "    def left(self):\n",
    "        self.facing = (self.facing - 1) % 4\n",
    "        \n",
    "    def right(self):\n",
    "        self.facing = (self.facing + 1) % 4"
   ]
  },
  {
   "cell_type": "code",
   "execution_count": 3,
   "id": "0db01e44",
   "metadata": {},
   "outputs": [],
   "source": [
    "with open('input.txt') as f:\n",
    "    data = f.read().rstrip()"
   ]
  },
  {
   "cell_type": "code",
   "execution_count": 4,
   "id": "43200de7",
   "metadata": {},
   "outputs": [],
   "source": [
    "grid, instructions = data.split('\\n\\n')\n",
    "instructions = re.split('([RL])', instructions)\n",
    "grid = np.array([\n",
    "    list(i.ljust(len(max(grid.splitlines(), key=len)))) for i in grid.splitlines()\n",
    "], dtype=str)"
   ]
  },
  {
   "cell_type": "markdown",
   "id": "14ef5edf",
   "metadata": {},
   "source": [
    "## part 1"
   ]
  },
  {
   "cell_type": "code",
   "execution_count": 5,
   "id": "40bd1854",
   "metadata": {
    "scrolled": false
   },
   "outputs": [],
   "source": [
    "human = Human(np.argwhere(grid[0] == '.').min(), 0, 0)\n",
    "\n",
    "for inst in instructions:\n",
    "    if inst == 'R':\n",
    "        human.right()\n",
    "    elif inst == 'L':\n",
    "        human.left()\n",
    "    else:\n",
    "        n = int(inst)\n",
    "        for it in range(n):\n",
    "            \n",
    "            if human.facing == 0:\n",
    "                if human.x + 1 >= grid.shape[1] or grid[human.y, human.x+1] == ' ':\n",
    "                    across = np.argwhere(grid[human.y] != ' ').min()\n",
    "                    if grid[human.y, across] == '.':\n",
    "                        human.x = across\n",
    "                    elif grid[human.y, across] == '#':\n",
    "                        break\n",
    "                elif grid[human.y, human.x+1] == '.':\n",
    "                    human.x += 1\n",
    "                elif grid[human.y, human.x+1] == '#':\n",
    "                    break\n",
    "            elif human.facing == 1:\n",
    "                if human.y + 1 >= grid.shape[0] or grid[human.y+1, human.x] == ' ':\n",
    "                    across = np.argwhere(grid[:, human.x] != ' ').min()\n",
    "                    if grid[across, human.x] == '.':\n",
    "                        human.y = across\n",
    "                    elif grid[across, human.x] == '#':\n",
    "                        break\n",
    "                elif grid[human.y+1, human.x] == '.':\n",
    "                    human.y += 1\n",
    "                elif grid[human.y+1, human.x] == '#':\n",
    "                    break\n",
    "            elif human.facing == 2:\n",
    "                if human.x - 1 < 0 or grid[human.y, human.x-1] == ' ':\n",
    "                    across = np.argwhere(grid[human.y] != ' ').max()\n",
    "                    if grid[human.y, across] == '.':\n",
    "                        human.x = across\n",
    "                    elif grid[human.y, across] == '#':\n",
    "                        break\n",
    "                elif grid[human.y, human.x-1] == '.':\n",
    "                    human.x -= 1\n",
    "                elif grid[human.y, human.x-1] == '#':\n",
    "                    break\n",
    "            elif human.facing == 3:\n",
    "                if human.y - 1 < 0 or grid[human.y-1, human.x] == ' ':\n",
    "                    across = np.argwhere(grid[:, human.x] != ' ').max()\n",
    "                    if grid[across, human.x] == '.':\n",
    "                        human.y = across\n",
    "                    elif grid[across, human.x] == '#':\n",
    "                        break\n",
    "                elif grid[human.y-1, human.x] == '.':\n",
    "                    human.y -= 1\n",
    "                elif grid[human.y-1, human.x] == '#':\n",
    "                    break"
   ]
  },
  {
   "cell_type": "code",
   "execution_count": 6,
   "id": "f5f94576",
   "metadata": {},
   "outputs": [
    {
     "data": {
      "text/plain": [
       "Human(x=10, y=122, facing=2)"
      ]
     },
     "execution_count": 6,
     "metadata": {},
     "output_type": "execute_result"
    }
   ],
   "source": [
    "human"
   ]
  },
  {
   "cell_type": "code",
   "execution_count": 7,
   "id": "4be7252f",
   "metadata": {},
   "outputs": [
    {
     "data": {
      "text/plain": [
       "123046"
      ]
     },
     "execution_count": 7,
     "metadata": {},
     "output_type": "execute_result"
    }
   ],
   "source": [
    "ans = 1000 * (human.y + 1) + 4 * (human.x + 1) + human.facing\n",
    "ans"
   ]
  },
  {
   "cell_type": "markdown",
   "id": "8bb30e94",
   "metadata": {},
   "source": [
    "## part 2"
   ]
  },
  {
   "cell_type": "code",
   "execution_count": 8,
   "id": "92a6b430",
   "metadata": {},
   "outputs": [],
   "source": [
    "# sorry just going to hardcode my cube\n",
    "human = Human(np.argwhere(grid[0] == '.').min(), 0, 0)\n",
    "\n",
    "for inst in instructions:\n",
    "    if inst == 'R':\n",
    "        human.right()\n",
    "    elif inst == 'L':\n",
    "        human.left()\n",
    "    else:\n",
    "        n = int(inst)\n",
    "        for it in range(n):        \n",
    "            if human.facing == 0:\n",
    "                if 0 <= human.y <= 49 and human.x == 149:\n",
    "                    new_y = (49 - human.y) + 100\n",
    "                    new_x = 99\n",
    "                    new_facing = 2\n",
    "                    \n",
    "                    if grid[new_y, new_x] == '.':\n",
    "                        human = Human(new_x, new_y, new_facing)\n",
    "                    elif grid[new_y, new_x] == '#':\n",
    "                        break\n",
    "                elif 50 <= human.y <= 99 and human.x == 99:\n",
    "                    new_y = 49\n",
    "                    new_x = (human.y - 50) + 100\n",
    "                    new_facing = 3\n",
    "                    \n",
    "                    if grid[new_y, new_x] == '.':\n",
    "                        human = Human(new_x, new_y, new_facing)\n",
    "                    elif grid[new_y, new_x] == '#':\n",
    "                        break\n",
    "                elif 100 <= human.y <= 149 and human.x == 99:\n",
    "                    new_y = 49 - (human.y - 100)\n",
    "                    new_x = 149\n",
    "                    new_facing = 2\n",
    "                    \n",
    "                    if grid[new_y, new_x] == '.':\n",
    "                        human = Human(new_x, new_y, new_facing)\n",
    "                    elif grid[new_y, new_x] == '#':\n",
    "                        break\n",
    "                elif 150 <= human.y <= 199 and human.x == 49:\n",
    "                    new_y = 149\n",
    "                    new_x = (human.y - 150) + 50\n",
    "                    new_facing = 3\n",
    "                    \n",
    "                    if grid[new_y, new_x] == '.':\n",
    "                        human = Human(new_x, new_y, new_facing)\n",
    "                    elif grid[new_y, new_x] == '#':\n",
    "                        break\n",
    "                else:\n",
    "                    if grid[human.y, human.x+1] == '.':\n",
    "                        human.x += 1\n",
    "                    elif grid[human.y, human.x+1] == '#':\n",
    "                        break\n",
    "            elif human.facing == 1:\n",
    "                if human.y == 199 and 0 <= human.x <= 49:\n",
    "                    new_y = 0\n",
    "                    new_x = human.x + 100\n",
    "                    new_facing = 1\n",
    "                    \n",
    "                    if grid[new_y, new_x] == '.':\n",
    "                        human = Human(new_x, new_y, new_facing)\n",
    "                    elif grid[new_y, new_x] == '#':\n",
    "                        break\n",
    "                elif human.y == 149 and 50 <= human.x <= 99:\n",
    "                    new_y = (human.x - 50) + 150\n",
    "                    new_x = 49\n",
    "                    new_facing = 2\n",
    "                    \n",
    "                    if grid[new_y, new_x] == '.':\n",
    "                        human = Human(new_x, new_y, new_facing)\n",
    "                    elif grid[new_y, new_x] == '#':\n",
    "                        break\n",
    "                elif human.y == 49 and 100 <= human.x <= 149:\n",
    "                    new_y = (human.x - 100) + 50\n",
    "                    new_x = 99\n",
    "                    new_facing = 2\n",
    "                    \n",
    "                    if grid[new_y, new_x] == '.':\n",
    "                        human = Human(new_x, new_y, new_facing)\n",
    "                    elif grid[new_y, new_x] == '#':\n",
    "                        break\n",
    "                else:\n",
    "                    if grid[human.y+1, human.x] == '.':\n",
    "                        human.y += 1\n",
    "                    elif grid[human.y+1, human.x] == '#':\n",
    "                        break\n",
    "            elif human.facing == 2:\n",
    "                if 0 <= human.y <= 49 and human.x == 50:\n",
    "                    new_y = (49 - human.y) + 100\n",
    "                    new_x = 0\n",
    "                    new_facing = 0\n",
    "                    \n",
    "                    if grid[new_y, new_x] == '.':\n",
    "                        human = Human(new_x, new_y, new_facing)\n",
    "                    elif grid[new_y, new_x] == '#':\n",
    "                        break\n",
    "                elif 50 <= human.y <= 99 and human.x == 50:\n",
    "                    new_y = 100\n",
    "                    new_x = human.y - 50\n",
    "                    new_facing = 1\n",
    "                    \n",
    "                    if grid[new_y, new_x] == '.':\n",
    "                        human = Human(new_x, new_y, new_facing)\n",
    "                    elif grid[new_y, new_x] == '#':\n",
    "                        break\n",
    "                elif 100 <= human.y <= 149 and human.x == 0:\n",
    "                    new_y = 49 - (human.y - 100)\n",
    "                    new_x = 50\n",
    "                    new_facing = 0\n",
    "                    \n",
    "                    if grid[new_y, new_x] == '.':\n",
    "                        human = Human(new_x, new_y, new_facing)\n",
    "                    elif grid[new_y, new_x] == '#':\n",
    "                        break\n",
    "                elif 150 <= human.y <= 199 and human.x == 0:\n",
    "                    new_y = 0\n",
    "                    new_x = (human.y - 150) + 50\n",
    "                    new_facing = 1\n",
    "                    \n",
    "                    if grid[new_y, new_x] == '.':\n",
    "                        human = Human(new_x, new_y, new_facing)\n",
    "                    elif grid[new_y, new_x] == '#':\n",
    "                        break\n",
    "                else:\n",
    "                    if grid[human.y, human.x-1] == '.':\n",
    "                        human.x -= 1\n",
    "                    elif grid[human.y, human.x-1] == '#':\n",
    "                        break\n",
    "            elif human.facing == 3:\n",
    "                if human.y == 100 and 0 <= human.x <= 49:\n",
    "                    new_y = human.x + 50\n",
    "                    new_x = 50\n",
    "                    new_facing = 0\n",
    "                    \n",
    "                    if grid[new_y, new_x] == '.':\n",
    "                        human = Human(new_x, new_y, new_facing)\n",
    "                    elif grid[new_y, new_x] == '#':\n",
    "                        break\n",
    "                elif human.y == 0 and 50 <= human.x <= 99:\n",
    "                    new_y = (human.x - 50) + 150\n",
    "                    new_x = 0\n",
    "                    new_facing = 0\n",
    "                    \n",
    "                    if grid[new_y, new_x] == '.':\n",
    "                        human = Human(new_x, new_y, new_facing)\n",
    "                    elif grid[new_y, new_x] == '#':\n",
    "                        break\n",
    "                elif human.y == 0 and 100 <= human.x <= 149:\n",
    "                    new_y = 199\n",
    "                    new_x = human.x - 100\n",
    "                    new_facing = 3\n",
    "                    \n",
    "                    if grid[new_y, new_x] == '.':\n",
    "                        human = Human(new_x, new_y, new_facing)\n",
    "                    elif grid[new_y, new_x] == '#':\n",
    "                        break\n",
    "                else:\n",
    "                    if grid[human.y-1, human.x] == '.':\n",
    "                        human.y -= 1\n",
    "                    elif grid[human.y-1, human.x] == '#':\n",
    "                        break"
   ]
  },
  {
   "cell_type": "code",
   "execution_count": 9,
   "id": "452143bc",
   "metadata": {},
   "outputs": [
    {
     "data": {
      "text/plain": [
       "Human(x=7, y=194, facing=0)"
      ]
     },
     "execution_count": 9,
     "metadata": {},
     "output_type": "execute_result"
    }
   ],
   "source": [
    "human"
   ]
  },
  {
   "cell_type": "code",
   "execution_count": 10,
   "id": "2acf3964",
   "metadata": {},
   "outputs": [
    {
     "data": {
      "text/plain": [
       "195032"
      ]
     },
     "execution_count": 10,
     "metadata": {},
     "output_type": "execute_result"
    }
   ],
   "source": [
    "ans = 1000 * (human.y + 1) + 4 * (human.x + 1) + human.facing\n",
    "ans"
   ]
  },
  {
   "cell_type": "code",
   "execution_count": null,
   "id": "35c3e95f",
   "metadata": {},
   "outputs": [],
   "source": []
  }
 ],
 "metadata": {
  "kernelspec": {
   "display_name": "Python 3 (ipykernel)",
   "language": "python",
   "name": "python3"
  },
  "language_info": {
   "codemirror_mode": {
    "name": "ipython",
    "version": 3
   },
   "file_extension": ".py",
   "mimetype": "text/x-python",
   "name": "python",
   "nbconvert_exporter": "python",
   "pygments_lexer": "ipython3",
   "version": "3.9.12"
  }
 },
 "nbformat": 4,
 "nbformat_minor": 5
}
