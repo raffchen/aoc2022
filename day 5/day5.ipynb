{
 "cells": [
  {
   "cell_type": "code",
   "execution_count": 1,
   "id": "70f7161f",
   "metadata": {},
   "outputs": [],
   "source": [
    "from collections import defaultdict\n",
    "import re"
   ]
  },
  {
   "cell_type": "markdown",
   "id": "9754aed0",
   "metadata": {},
   "source": [
    "## part 1"
   ]
  },
  {
   "cell_type": "code",
   "execution_count": 2,
   "id": "9b4e4b16",
   "metadata": {},
   "outputs": [],
   "source": [
    "with open('input.txt') as f:\n",
    "    data1, data2 = f.read().rstrip().split('\\n\\n')"
   ]
  },
  {
   "cell_type": "code",
   "execution_count": 3,
   "id": "f2aa50fd",
   "metadata": {},
   "outputs": [
    {
     "name": "stdout",
     "output_type": "stream",
     "text": [
      "                        [R] [J] [W]\n",
      "            [R] [N]     [T] [T] [C]\n",
      "[R]         [P] [G]     [J] [P] [T]\n",
      "[Q]     [C] [M] [V]     [F] [F] [H]\n",
      "[G] [P] [M] [S] [Z]     [Z] [C] [Q]\n",
      "[P] [C] [P] [Q] [J] [J] [P] [H] [Z]\n",
      "[C] [T] [H] [T] [H] [P] [G] [L] [V]\n",
      "[F] [W] [B] [L] [P] [D] [L] [N] [G]\n",
      " 1   2   3   4   5   6   7   8   9 \n"
     ]
    }
   ],
   "source": [
    "print(data1)"
   ]
  },
  {
   "cell_type": "code",
   "execution_count": 4,
   "id": "3935491f",
   "metadata": {},
   "outputs": [],
   "source": [
    "def chunks(l, n):\n",
    "    for i in range(0, len(l), n):\n",
    "        yield l[i:i + n].rstrip().strip('[]')"
   ]
  },
  {
   "cell_type": "code",
   "execution_count": 5,
   "id": "0a5cf64d",
   "metadata": {},
   "outputs": [],
   "source": [
    "stacks = defaultdict(list)\n",
    "\n",
    "for line in data1.splitlines()[:-1]:\n",
    "    for i, chunk in enumerate(chunks(line, 4), 1):\n",
    "        if chunk != '':\n",
    "            stacks[i].append(chunk)"
   ]
  },
  {
   "cell_type": "code",
   "execution_count": 6,
   "id": "7f537416",
   "metadata": {},
   "outputs": [
    {
     "data": {
      "text/plain": [
       "{7: ['L', 'G', 'P', 'Z', 'F', 'J', 'T', 'R'],\n",
       " 8: ['N', 'L', 'H', 'C', 'F', 'P', 'T', 'J'],\n",
       " 9: ['G', 'V', 'Z', 'Q', 'H', 'T', 'C', 'W'],\n",
       " 4: ['L', 'T', 'Q', 'S', 'M', 'P', 'R'],\n",
       " 5: ['P', 'H', 'J', 'Z', 'V', 'G', 'N'],\n",
       " 1: ['F', 'C', 'P', 'G', 'Q', 'R'],\n",
       " 3: ['B', 'H', 'P', 'M', 'C'],\n",
       " 2: ['W', 'T', 'C', 'P'],\n",
       " 6: ['D', 'P', 'J']}"
      ]
     },
     "execution_count": 6,
     "metadata": {},
     "output_type": "execute_result"
    }
   ],
   "source": [
    "stacks = {k: v[::-1] for k, v in stacks.items()}\n",
    "stacks"
   ]
  },
  {
   "cell_type": "code",
   "execution_count": 7,
   "id": "95a59346",
   "metadata": {},
   "outputs": [],
   "source": [
    "pattern = re.compile(r'move (\\d+) from (\\d+) to (\\d+)')"
   ]
  },
  {
   "cell_type": "code",
   "execution_count": 8,
   "id": "a716c62e",
   "metadata": {},
   "outputs": [],
   "source": [
    "for line in data2.splitlines():\n",
    "    num, frm, to = pattern.match(line).groups()\n",
    "    num = int(num)\n",
    "    frm = int(frm)\n",
    "    to = int(to)\n",
    "    \n",
    "    for i in range(num):\n",
    "        item = stacks[frm].pop()\n",
    "        stacks[to].append(item)"
   ]
  },
  {
   "cell_type": "code",
   "execution_count": 9,
   "id": "62a990e7",
   "metadata": {},
   "outputs": [
    {
     "data": {
      "text/plain": [
       "'DHBJQJCCW'"
      ]
     },
     "execution_count": 9,
     "metadata": {},
     "output_type": "execute_result"
    }
   ],
   "source": [
    "''.join([stack[-1] for i, stack in sorted(stacks.items())])"
   ]
  },
  {
   "cell_type": "markdown",
   "id": "02c7557d",
   "metadata": {},
   "source": [
    "## part 2"
   ]
  },
  {
   "cell_type": "code",
   "execution_count": 10,
   "id": "26fa27db",
   "metadata": {},
   "outputs": [],
   "source": [
    "stacks = defaultdict(list)\n",
    "\n",
    "for line in data1.splitlines()[:-1]:\n",
    "    for i, chunk in enumerate(chunks(line, 4), 1):\n",
    "        if chunk != '':\n",
    "            stacks[i].append(chunk)\n",
    "            \n",
    "stacks = {k: v[::-1] for k, v in stacks.items()}"
   ]
  },
  {
   "cell_type": "code",
   "execution_count": 11,
   "id": "7e9428d7",
   "metadata": {},
   "outputs": [],
   "source": [
    "for line in data2.splitlines():\n",
    "    num, frm, to = pattern.match(line).groups()\n",
    "    num = int(num)\n",
    "    frm = int(frm)\n",
    "    to = int(to)\n",
    "    \n",
    "    items = stacks[frm][-num:]\n",
    "    for _ in range(num):\n",
    "        stacks[frm].pop()\n",
    "    stacks[to].extend(items)"
   ]
  },
  {
   "cell_type": "code",
   "execution_count": 12,
   "id": "255938a0",
   "metadata": {},
   "outputs": [
    {
     "data": {
      "text/plain": [
       "'WJVRLSJJT'"
      ]
     },
     "execution_count": 12,
     "metadata": {},
     "output_type": "execute_result"
    }
   ],
   "source": [
    "''.join([stack[-1] for i, stack in sorted(stacks.items())])"
   ]
  },
  {
   "cell_type": "code",
   "execution_count": null,
   "id": "7c810e4a",
   "metadata": {},
   "outputs": [],
   "source": []
  }
 ],
 "metadata": {
  "kernelspec": {
   "display_name": "Python 3 (ipykernel)",
   "language": "python",
   "name": "python3"
  },
  "language_info": {
   "codemirror_mode": {
    "name": "ipython",
    "version": 3
   },
   "file_extension": ".py",
   "mimetype": "text/x-python",
   "name": "python",
   "nbconvert_exporter": "python",
   "pygments_lexer": "ipython3",
   "version": "3.10.5"
  }
 },
 "nbformat": 4,
 "nbformat_minor": 5
}
